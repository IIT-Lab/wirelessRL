{
 "cells": [
  {
   "cell_type": "markdown",
   "metadata": {},
   "source": [
    "### Exploring Dynamic Programing\n",
    "\n"
   ]
  },
  {
   "cell_type": "code",
   "execution_count": 1,
   "metadata": {},
   "outputs": [
    {
     "name": "stderr",
     "output_type": "stream",
     "text": [
      "Using TensorFlow backend.\n"
     ]
    }
   ],
   "source": [
    "# the required imports\n",
    "import numpy as np\n",
    "import pandas as pd\n",
    "# from linear_aproximation import Model\n",
    "# from environment import network\n",
    "import matplotlib.pyplot as plt\n",
    "import re\n",
    "from sklearn.model_selection import train_test_split\n",
    "from sklearn import linear_model\n",
    "from sklearn.metrics import mean_squared_error, r2_score\n",
    "from sklearn.preprocessing import StandardScaler\n",
    "\n",
    "# additional import for the Neural Network\n",
    "from keras.layers import Dense\n",
    "from keras.models import Sequential, load_model\n",
    "from keras import optimizers\n",
    "import tensorflow as tf\n"
   ]
  },
  {
   "cell_type": "code",
   "execution_count": 2,
   "metadata": {},
   "outputs": [
    {
     "data": {
      "text/html": [
       "<div>\n",
       "<style>\n",
       "    .dataframe thead tr:only-child th {\n",
       "        text-align: right;\n",
       "    }\n",
       "\n",
       "    .dataframe thead th {\n",
       "        text-align: left;\n",
       "    }\n",
       "\n",
       "    .dataframe tbody tr th {\n",
       "        vertical-align: top;\n",
       "    }\n",
       "</style>\n",
       "<table border=\"1\" class=\"dataframe\">\n",
       "  <thead>\n",
       "    <tr style=\"text-align: right;\">\n",
       "      <th></th>\n",
       "      <th>action</th>\n",
       "      <th>reward</th>\n",
       "      <th>s_next</th>\n",
       "      <th>state</th>\n",
       "    </tr>\n",
       "  </thead>\n",
       "  <tbody>\n",
       "    <tr>\n",
       "      <th>299475</th>\n",
       "      <td>121.0</td>\n",
       "      <td>-2.915486</td>\n",
       "      <td>[2733, 2733, 2733, 3200, 3200, 3200, 2500, 250...</td>\n",
       "      <td>[2733, 2733, 2733, 3200, 3200, 3200, 2500, 250...</td>\n",
       "    </tr>\n",
       "    <tr>\n",
       "      <th>299476</th>\n",
       "      <td>121.0</td>\n",
       "      <td>-3.054551</td>\n",
       "      <td>[2733, 2733, 2733, 3200, 3200, 3200, 2500, 250...</td>\n",
       "      <td>[2733, 2733, 2733, 3200, 3200, 3200, 2500, 250...</td>\n",
       "    </tr>\n",
       "    <tr>\n",
       "      <th>299477</th>\n",
       "      <td>121.0</td>\n",
       "      <td>-2.653020</td>\n",
       "      <td>[2733, 2733, 2733, 3200, 3200, 3200, 2500, 250...</td>\n",
       "      <td>[2733, 2733, 2733, 3200, 3200, 3200, 2500, 250...</td>\n",
       "    </tr>\n",
       "  </tbody>\n",
       "</table>\n",
       "</div>"
      ],
      "text/plain": [
       "        action    reward                                             s_next  \\\n",
       "299475   121.0 -2.915486  [2733, 2733, 2733, 3200, 3200, 3200, 2500, 250...   \n",
       "299476   121.0 -3.054551  [2733, 2733, 2733, 3200, 3200, 3200, 2500, 250...   \n",
       "299477   121.0 -2.653020  [2733, 2733, 2733, 3200, 3200, 3200, 2500, 250...   \n",
       "\n",
       "                                                    state  \n",
       "299475  [2733, 2733, 2733, 3200, 3200, 3200, 2500, 250...  \n",
       "299476  [2733, 2733, 2733, 3200, 3200, 3200, 2500, 250...  \n",
       "299477  [2733, 2733, 2733, 3200, 3200, 3200, 2500, 250...  "
      ]
     },
     "execution_count": 2,
     "metadata": {},
     "output_type": "execute_result"
    }
   ],
   "source": [
    "# loading the original dataset\n",
    "path = '/home/mawongh/ws/datasets/'\n",
    "dataset = pd.read_pickle(path + 'full_dataset.pickle')\n",
    "dataset.tail(3)\n"
   ]
  },
  {
   "cell_type": "code",
   "execution_count": 3,
   "metadata": {},
   "outputs": [
    {
     "data": {
      "text/html": [
       "<div>\n",
       "<style>\n",
       "    .dataframe thead tr:only-child th {\n",
       "        text-align: right;\n",
       "    }\n",
       "\n",
       "    .dataframe thead th {\n",
       "        text-align: left;\n",
       "    }\n",
       "\n",
       "    .dataframe tbody tr th {\n",
       "        vertical-align: top;\n",
       "    }\n",
       "</style>\n",
       "<table border=\"1\" class=\"dataframe\">\n",
       "  <thead>\n",
       "    <tr style=\"text-align: right;\">\n",
       "      <th></th>\n",
       "      <th>action</th>\n",
       "      <th>reward</th>\n",
       "      <th>s_next</th>\n",
       "      <th>state</th>\n",
       "      <th>state_norm</th>\n",
       "      <th>s_next_norm</th>\n",
       "      <th>state_id</th>\n",
       "    </tr>\n",
       "  </thead>\n",
       "  <tbody>\n",
       "    <tr>\n",
       "      <th>0</th>\n",
       "      <td>34.0</td>\n",
       "      <td>-5.789736</td>\n",
       "      <td>[2733, 2733, 2733, 3200, 3200, 3200, 2500, 250...</td>\n",
       "      <td>[2733, 2733, 2733, 3200, 3200, 3200, 2500, 250...</td>\n",
       "      <td>[0.0, 0.0, 0.0, 0.0, 0.0, 0.0, 0.0, 0.0, 0.0, ...</td>\n",
       "      <td>[0.0, 0.0, 0.0, 0.0, 0.0, 0.0, 0.0, 0.0, 0.0, ...</td>\n",
       "      <td>2733273327333200320032002500250025004266426642...</td>\n",
       "    </tr>\n",
       "    <tr>\n",
       "      <th>1</th>\n",
       "      <td>0.0</td>\n",
       "      <td>-5.105602</td>\n",
       "      <td>[2733, 2733, 2733, 3200, 3200, 3200, 2500, 250...</td>\n",
       "      <td>[2733, 2733, 2733, 3200, 3200, 3200, 2500, 250...</td>\n",
       "      <td>[0.0, 0.0, 0.0, 0.0, 0.0, 0.0, 0.0, 0.0, 0.0, ...</td>\n",
       "      <td>[0.0, 0.0, 0.0, 0.0, 0.0, 0.0, 0.0, 0.0, 0.0, ...</td>\n",
       "      <td>2733273327333200320032002500250025004266426642...</td>\n",
       "    </tr>\n",
       "    <tr>\n",
       "      <th>2</th>\n",
       "      <td>69.0</td>\n",
       "      <td>-5.131072</td>\n",
       "      <td>[2733, 2733, 2733, 3200, 3200, 3200, 2500, 250...</td>\n",
       "      <td>[2733, 2733, 2733, 3200, 3200, 3200, 2500, 250...</td>\n",
       "      <td>[0.0, 0.0, 0.0, 0.0, 0.0, 0.0, 0.0, 0.0, 0.0, ...</td>\n",
       "      <td>[0.0, 0.0, 0.0, 0.0, 0.0, 0.0, 0.0, 0.0, 0.0, ...</td>\n",
       "      <td>2733273327333200320032002500250025004266426642...</td>\n",
       "    </tr>\n",
       "  </tbody>\n",
       "</table>\n",
       "</div>"
      ],
      "text/plain": [
       "   action    reward                                             s_next  \\\n",
       "0    34.0 -5.789736  [2733, 2733, 2733, 3200, 3200, 3200, 2500, 250...   \n",
       "1     0.0 -5.105602  [2733, 2733, 2733, 3200, 3200, 3200, 2500, 250...   \n",
       "2    69.0 -5.131072  [2733, 2733, 2733, 3200, 3200, 3200, 2500, 250...   \n",
       "\n",
       "                                               state  \\\n",
       "0  [2733, 2733, 2733, 3200, 3200, 3200, 2500, 250...   \n",
       "1  [2733, 2733, 2733, 3200, 3200, 3200, 2500, 250...   \n",
       "2  [2733, 2733, 2733, 3200, 3200, 3200, 2500, 250...   \n",
       "\n",
       "                                          state_norm  \\\n",
       "0  [0.0, 0.0, 0.0, 0.0, 0.0, 0.0, 0.0, 0.0, 0.0, ...   \n",
       "1  [0.0, 0.0, 0.0, 0.0, 0.0, 0.0, 0.0, 0.0, 0.0, ...   \n",
       "2  [0.0, 0.0, 0.0, 0.0, 0.0, 0.0, 0.0, 0.0, 0.0, ...   \n",
       "\n",
       "                                         s_next_norm  \\\n",
       "0  [0.0, 0.0, 0.0, 0.0, 0.0, 0.0, 0.0, 0.0, 0.0, ...   \n",
       "1  [0.0, 0.0, 0.0, 0.0, 0.0, 0.0, 0.0, 0.0, 0.0, ...   \n",
       "2  [0.0, 0.0, 0.0, 0.0, 0.0, 0.0, 0.0, 0.0, 0.0, ...   \n",
       "\n",
       "                                            state_id  \n",
       "0  2733273327333200320032002500250025004266426642...  \n",
       "1  2733273327333200320032002500250025004266426642...  \n",
       "2  2733273327333200320032002500250025004266426642...  "
      ]
     },
     "execution_count": 3,
     "metadata": {},
     "output_type": "execute_result"
    }
   ],
   "source": [
    "# this section:\n",
    "# 1) add the stateid columns to filter the unique states later\n",
    "# 2) normalizes the state vectors\n",
    "\n",
    "# will convert to state ids\n",
    "def state2stateid(s):\n",
    "    return ''.join(str for str in s.astype(str).tolist())\n",
    "\n",
    "state_id = [state2stateid(s) for s in dataset.state.tolist()]\n",
    "\n",
    "# normalize the states\n",
    "S_woScale = dataset.state.tolist()\n",
    "Snext_woScale = dataset.s_next.tolist()\n",
    "scaler = StandardScaler()\n",
    "scaler.fit(S_woScale)\n",
    "\n",
    "S = scaler.transform(S_woScale)\n",
    "Snext = scaler.transform(Snext_woScale)\n",
    "\n",
    "dataset['state_norm'] = S.tolist()\n",
    "dataset['s_next_norm'] = Snext.tolist()\n",
    "dataset['state_id'] = state_id\n",
    "dataset.head(3)"
   ]
  },
  {
   "cell_type": "code",
   "execution_count": 4,
   "metadata": {},
   "outputs": [
    {
     "data": {
      "text/html": [
       "<div>\n",
       "<style>\n",
       "    .dataframe thead tr:only-child th {\n",
       "        text-align: right;\n",
       "    }\n",
       "\n",
       "    .dataframe thead th {\n",
       "        text-align: left;\n",
       "    }\n",
       "\n",
       "    .dataframe tbody tr th {\n",
       "        vertical-align: top;\n",
       "    }\n",
       "</style>\n",
       "<table border=\"1\" class=\"dataframe\">\n",
       "  <thead>\n",
       "    <tr style=\"text-align: right;\">\n",
       "      <th></th>\n",
       "      <th>state_id</th>\n",
       "      <th>action</th>\n",
       "      <th>reward</th>\n",
       "      <th>s_next</th>\n",
       "      <th>state</th>\n",
       "      <th>state_norm</th>\n",
       "      <th>s_next_norm</th>\n",
       "    </tr>\n",
       "  </thead>\n",
       "  <tbody>\n",
       "    <tr>\n",
       "      <th>0</th>\n",
       "      <td>2733273327333200320032002500250025004266426642...</td>\n",
       "      <td>63.0</td>\n",
       "      <td>-2.605910</td>\n",
       "      <td>[2733, 2733, 2733, 3200, 3200, 3200, 2500, 250...</td>\n",
       "      <td>[2733, 2733, 2733, 3200, 3200, 3200, 2500, 250...</td>\n",
       "      <td>[0.0, 0.0, 0.0, 0.0, 0.0, 0.0, 0.0, 0.0, 0.0, ...</td>\n",
       "      <td>[0.0, 0.0, 0.0, 0.0, 0.0, 0.0, 0.0, 0.0, 0.0, ...</td>\n",
       "    </tr>\n",
       "    <tr>\n",
       "      <th>1</th>\n",
       "      <td>2733273327333200320032002500250025004266426642...</td>\n",
       "      <td>85.0</td>\n",
       "      <td>-1.627199</td>\n",
       "      <td>[2733, 2733, 2733, 3200, 3200, 3200, 2500, 250...</td>\n",
       "      <td>[2733, 2733, 2733, 3200, 3200, 3200, 2500, 250...</td>\n",
       "      <td>[0.0, 0.0, 0.0, 0.0, 0.0, 0.0, 0.0, 0.0, 0.0, ...</td>\n",
       "      <td>[0.0, 0.0, 0.0, 0.0, 0.0, 0.0, 0.0, 0.0, 0.0, ...</td>\n",
       "    </tr>\n",
       "    <tr>\n",
       "      <th>2</th>\n",
       "      <td>2733273327333200320032002500250025004266426642...</td>\n",
       "      <td>105.0</td>\n",
       "      <td>-1.764777</td>\n",
       "      <td>[2733, 2733, 2733, 3200, 3200, 3200, 2500, 250...</td>\n",
       "      <td>[2733, 2733, 2733, 3200, 3200, 3200, 2500, 250...</td>\n",
       "      <td>[0.0, 0.0, 0.0, 0.0, 0.0, 0.0, 0.0, 0.0, 0.0, ...</td>\n",
       "      <td>[0.0, 0.0, 0.0, 0.0, 0.0, 0.0, 0.0, 0.0, 0.0, ...</td>\n",
       "    </tr>\n",
       "  </tbody>\n",
       "</table>\n",
       "</div>"
      ],
      "text/plain": [
       "                                            state_id  action    reward  \\\n",
       "0  2733273327333200320032002500250025004266426642...    63.0 -2.605910   \n",
       "1  2733273327333200320032002500250025004266426642...    85.0 -1.627199   \n",
       "2  2733273327333200320032002500250025004266426642...   105.0 -1.764777   \n",
       "\n",
       "                                              s_next  \\\n",
       "0  [2733, 2733, 2733, 3200, 3200, 3200, 2500, 250...   \n",
       "1  [2733, 2733, 2733, 3200, 3200, 3200, 2500, 250...   \n",
       "2  [2733, 2733, 2733, 3200, 3200, 3200, 2500, 250...   \n",
       "\n",
       "                                               state  \\\n",
       "0  [2733, 2733, 2733, 3200, 3200, 3200, 2500, 250...   \n",
       "1  [2733, 2733, 2733, 3200, 3200, 3200, 2500, 250...   \n",
       "2  [2733, 2733, 2733, 3200, 3200, 3200, 2500, 250...   \n",
       "\n",
       "                                          state_norm  \\\n",
       "0  [0.0, 0.0, 0.0, 0.0, 0.0, 0.0, 0.0, 0.0, 0.0, ...   \n",
       "1  [0.0, 0.0, 0.0, 0.0, 0.0, 0.0, 0.0, 0.0, 0.0, ...   \n",
       "2  [0.0, 0.0, 0.0, 0.0, 0.0, 0.0, 0.0, 0.0, 0.0, ...   \n",
       "\n",
       "                                         s_next_norm  \n",
       "0  [0.0, 0.0, 0.0, 0.0, 0.0, 0.0, 0.0, 0.0, 0.0, ...  \n",
       "1  [0.0, 0.0, 0.0, 0.0, 0.0, 0.0, 0.0, 0.0, 0.0, ...  \n",
       "2  [0.0, 0.0, 0.0, 0.0, 0.0, 0.0, 0.0, 0.0, 0.0, ...  "
      ]
     },
     "execution_count": 4,
     "metadata": {},
     "output_type": "execute_result"
    }
   ],
   "source": [
    "# creates a new dataframe with the unique states\n",
    "unique_states_df = dataset.groupby('state_id').first().reset_index()\n",
    "unique_states_df.head(3)"
   ]
  },
  {
   "cell_type": "code",
   "execution_count": 5,
   "metadata": {
    "collapsed": true
   },
   "outputs": [],
   "source": [
    "# load the MDP model from file and initializes the Q value function\n",
    "from keras.models import load_model\n",
    "modelfilename = 'MDP_model6.h5'\n",
    "\n",
    "MDP_model = load_model(path + modelfilename)\n",
    "\n",
    "# Q model\n",
    "Q_model = Sequential()\n",
    "n_cols = 105\n",
    "\n",
    "Q_model.add(Dense(400, activation = 'relu', input_shape=(n_cols,)))\n",
    "Q_model.add(Dense(400, activation = 'relu'))\n",
    "Q_model.add(Dense(400, activation = 'relu'))\n",
    "Q_model.add(Dense(126, activation = 'linear'))\n",
    "Q_model.compile(optimizer=optimizers.Adam(), loss='mean_squared_error')\n"
   ]
  },
  {
   "cell_type": "code",
   "execution_count": 6,
   "metadata": {
    "collapsed": true
   },
   "outputs": [],
   "source": [
    "# functions that returns all the posibles next states\n",
    "def next_state(s,action_code):\n",
    "        s_next = s.copy()\n",
    "        cell = int(action_code / 6)\n",
    "        # this operations gives the cell on the action will be executed\n",
    "        subaction = action_code % 6\n",
    "        attribute = int(subaction / 2) + 2\n",
    "        \n",
    "        index = attribute * 21 + cell\n",
    "#         print(index)\n",
    "        action_dict = {0:'incr20', 1:'decr20', 2:'incr2', 3:'decr2', 4:'on', 5:'off'}\n",
    "        action = action_dict[subaction]\n",
    "#         print(action)\n",
    "        if action == 'incr20':\n",
    "#             print(s_next[index])\n",
    "            s_next[index] += 20\n",
    "#             print(s_next[index])\n",
    "        if action == 'decr20':\n",
    "            s_next[index] -= 20\n",
    "        if action == 'incr2':\n",
    "            s_next[index] += 2\n",
    "        if action == 'decr2':\n",
    "            s_next[index] -= 2\n",
    "        if action == 'on':\n",
    "            s_next[index] = 1\n",
    "        if action == 'off':\n",
    "            s_next[index] = 0\n",
    "        # check conf\n",
    "        # tx_powers\n",
    "        txpower_idx = np.arange(3*21, 3*21+21)\n",
    "        for idx in txpower_idx:\n",
    "            if s_next[idx] < 36:\n",
    "                s_next[idx] = 36\n",
    "            if s_next[idx] > 46:\n",
    "                s_next[idx] = 46\n",
    "        # azimuths\n",
    "        cell1_idx = np.arange(44,44+21,3)\n",
    "        cell2_idx = np.arange(45,45+21,3)\n",
    "        cell3_idx = np.arange(46,46+21,3)\n",
    "        for idx in cell1_idx:\n",
    "            if s_next[idx] < 0:\n",
    "                s_next[idx] = 0\n",
    "            if s_next[idx] > 100:\n",
    "                s_next[idx] = 100\n",
    "        for idx in cell2_idx:\n",
    "            if s_next[idx] < 0:\n",
    "                s_next[idx] = 0\n",
    "            if s_next[idx] > 120:\n",
    "                s_next[idx] = 220\n",
    "        for idx in cell3_idx:\n",
    "            if s_next[idx] < 240:\n",
    "                s_next[idx] = 240\n",
    "            if s_next[idx] > 340:\n",
    "                s_next[idx] = 340\n",
    "        return s_next\n",
    "\n",
    "def next_states(s):\n",
    "    next_states_array = [next_state(s,a) for a in np.arange(126)]\n",
    "    return np.array(next_states_array)"
   ]
  },
  {
   "cell_type": "code",
   "execution_count": 9,
   "metadata": {},
   "outputs": [
    {
     "name": "stdout",
     "output_type": "stream",
     "text": [
      "iteraction: 1\n",
      "setting target...\n"
     ]
    },
    {
     "name": "stderr",
     "output_type": "stream",
     "text": [
      "/home/mawongh/anaconda3/envs/rl/lib/python3.6/site-packages/sklearn/utils/validation.py:429: DataConversionWarning: Data with input dtype int64 was converted to float64 by StandardScaler.\n",
      "  warnings.warn(msg, _DataConversionWarning)\n"
     ]
    },
    {
     "name": "stdout",
     "output_type": "stream",
     "text": [
      "Epoch 1/10\n",
      "118670/118670 [==============================] - 24s - loss: 3.3253    \n",
      "Epoch 2/10\n",
      "118670/118670 [==============================] - 24s - loss: 1.5617    \n",
      "Epoch 3/10\n",
      "118670/118670 [==============================] - 24s - loss: 0.7940    \n",
      "Epoch 4/10\n",
      "118670/118670 [==============================] - 24s - loss: 0.7051    \n",
      "Epoch 5/10\n",
      "118670/118670 [==============================] - 24s - loss: 0.5556    \n",
      "Epoch 6/10\n",
      "118670/118670 [==============================] - 24s - loss: 0.5989    \n",
      "Epoch 7/10\n",
      "118670/118670 [==============================] - 24s - loss: 0.3948    \n",
      "Epoch 8/10\n",
      "118670/118670 [==============================] - 24s - loss: 0.4511    \n",
      "Epoch 9/10\n",
      "118670/118670 [==============================] - 24s - loss: 0.4191    \n",
      "Epoch 10/10\n",
      "118670/118670 [==============================] - 24s - loss: 0.2815    \n",
      "iteraction: 2\n",
      "setting target...\n",
      "Epoch 1/10\n",
      "118670/118670 [==============================] - 24s - loss: 0.6344    \n",
      "Epoch 2/10\n",
      "118670/118670 [==============================] - 24s - loss: 0.3529    \n",
      "Epoch 3/10\n",
      "118670/118670 [==============================] - 24s - loss: 0.2814    \n",
      "Epoch 4/10\n",
      "118670/118670 [==============================] - 25s - loss: 0.3072    \n",
      "Epoch 5/10\n",
      "118670/118670 [==============================] - 24s - loss: 0.2522    \n",
      "Epoch 6/10\n",
      "118670/118670 [==============================] - 24s - loss: 0.2835    \n",
      "Epoch 7/10\n",
      "118670/118670 [==============================] - 25s - loss: 0.2830    \n",
      "Epoch 8/10\n",
      "118670/118670 [==============================] - 24s - loss: 0.2018    \n",
      "Epoch 9/10\n",
      "118670/118670 [==============================] - 24s - loss: 0.2730    \n",
      "Epoch 10/10\n",
      "118670/118670 [==============================] - 24s - loss: 0.1902    \n",
      "iteraction: 3\n",
      "setting target...\n",
      "Epoch 1/10\n",
      "118670/118670 [==============================] - 24s - loss: 0.6273    \n",
      "Epoch 2/10\n",
      "118670/118670 [==============================] - 24s - loss: 0.2497    \n",
      "Epoch 3/10\n",
      "118670/118670 [==============================] - 25s - loss: 0.2313    \n",
      "Epoch 4/10\n",
      "118670/118670 [==============================] - 25s - loss: 0.2536    \n",
      "Epoch 5/10\n",
      "118670/118670 [==============================] - 24s - loss: 0.2410    \n",
      "Epoch 6/10\n",
      "118670/118670 [==============================] - 24s - loss: 0.2061    \n",
      "Epoch 7/10\n",
      "118670/118670 [==============================] - 24s - loss: 0.2354    \n",
      "Epoch 8/10\n",
      "118670/118670 [==============================] - 24s - loss: 0.1977    \n",
      "Epoch 9/10\n",
      "118670/118670 [==============================] - 24s - loss: 0.1854    \n",
      "Epoch 10/10\n",
      "118670/118670 [==============================] - 24s - loss: 0.2041    \n",
      "training completed!\n"
     ]
    }
   ],
   "source": [
    "M = 3\n",
    "gamma = 0.5\n",
    "Qmodelfilename = 'Q_model_DP_g05.h5'\n",
    "Qmodel_weigths_filename = 'Q_model_DP_g05_weights.h5'\n",
    "Pr = 1 / 126 # uniform probability for all actions\n",
    "\n",
    "for k in np.arange(M):\n",
    "    print('iteraction: {}'.format(k+1))\n",
    "    \n",
    "    vk = []\n",
    "    print('setting target...')\n",
    "    for i in np.arange(len(unique_states_df)):\n",
    "        # determine all the posibles next states\n",
    "        s_norm = unique_states_df.state_norm[i]\n",
    "        s = unique_states_df.state[i]\n",
    "        s_next = next_states(s)\n",
    "        s_next_norm = scaler.transform(s_next)\n",
    "        Rsa = MDP_model.predict(np.array(s_norm).reshape(1,-1))[0]\n",
    "        term = gamma * Pr * np.sum(Q_model.predict(s_next_norm),axis = 1)\n",
    "        vk += [Rsa + term]\n",
    "    \n",
    "    X = np.array([np.array(unique_states_df.state_norm[i])\n",
    "                  for i in np.arange(len(unique_states_df))])\n",
    "    y = np.array(vk)\n",
    "\n",
    "    Q_model.fit(X,y)\n",
    "\n",
    "print('training completed!')\n",
    "Q_model.save(path + Qmodelfilename)\n",
    "Q_model.save_weights(path + Qmodel_weigths_filename)"
   ]
  },
  {
   "cell_type": "code",
   "execution_count": null,
   "metadata": {
    "collapsed": true
   },
   "outputs": [],
   "source": []
  },
  {
   "cell_type": "code",
   "execution_count": null,
   "metadata": {
    "collapsed": true
   },
   "outputs": [],
   "source": [
    "\n"
   ]
  },
  {
   "cell_type": "code",
   "execution_count": null,
   "metadata": {
    "collapsed": true
   },
   "outputs": [],
   "source": [
    "\n"
   ]
  },
  {
   "cell_type": "code",
   "execution_count": null,
   "metadata": {
    "collapsed": true
   },
   "outputs": [],
   "source": []
  },
  {
   "cell_type": "code",
   "execution_count": null,
   "metadata": {
    "collapsed": true
   },
   "outputs": [],
   "source": [
    "\n"
   ]
  },
  {
   "cell_type": "code",
   "execution_count": null,
   "metadata": {
    "collapsed": true
   },
   "outputs": [],
   "source": [
    "\n"
   ]
  },
  {
   "cell_type": "code",
   "execution_count": null,
   "metadata": {
    "collapsed": true
   },
   "outputs": [],
   "source": []
  },
  {
   "cell_type": "code",
   "execution_count": null,
   "metadata": {
    "collapsed": true
   },
   "outputs": [],
   "source": []
  },
  {
   "cell_type": "code",
   "execution_count": null,
   "metadata": {
    "collapsed": true
   },
   "outputs": [],
   "source": []
  },
  {
   "cell_type": "code",
   "execution_count": null,
   "metadata": {
    "collapsed": true
   },
   "outputs": [],
   "source": []
  },
  {
   "cell_type": "code",
   "execution_count": null,
   "metadata": {
    "collapsed": true
   },
   "outputs": [],
   "source": []
  },
  {
   "cell_type": "code",
   "execution_count": null,
   "metadata": {
    "collapsed": true
   },
   "outputs": [],
   "source": [
    "\n"
   ]
  },
  {
   "cell_type": "code",
   "execution_count": null,
   "metadata": {
    "collapsed": true
   },
   "outputs": [],
   "source": [
    "\n"
   ]
  },
  {
   "cell_type": "code",
   "execution_count": null,
   "metadata": {
    "collapsed": true
   },
   "outputs": [],
   "source": []
  },
  {
   "cell_type": "code",
   "execution_count": null,
   "metadata": {
    "collapsed": true
   },
   "outputs": [],
   "source": []
  },
  {
   "cell_type": "code",
   "execution_count": null,
   "metadata": {
    "collapsed": true
   },
   "outputs": [],
   "source": [
    "\n",
    "rhat = [np.argmax(MDP_model.predict(np.array(s).reshape(1,-1))[0])\n",
    "        for s in unique_states_df.state_norm.tolist()]\n",
    "\n"
   ]
  },
  {
   "cell_type": "code",
   "execution_count": null,
   "metadata": {
    "collapsed": true
   },
   "outputs": [],
   "source": [
    "ticks = np.unique(rhat)\n",
    "plt.figure(figsize = (6,1), dpi = 200)\n",
    "plt.hist(rhat, bins=126)\n",
    "plt.xticks(ticks)\n",
    "plt.show()"
   ]
  },
  {
   "cell_type": "code",
   "execution_count": null,
   "metadata": {
    "collapsed": true
   },
   "outputs": [],
   "source": [
    "Rhat = [MDP_model.predict(np.array(s).reshape(1,-1))[0]\n",
    "        for s in unique_states_df.state_norm.tolist()]\n",
    "\n"
   ]
  },
  {
   "cell_type": "code",
   "execution_count": null,
   "metadata": {
    "collapsed": true
   },
   "outputs": [],
   "source": [
    "# np.array(Rhat).shape\n",
    "data = pd.DataFrame(data = np.array(Rhat),columns = np.arange(126).astype(str))\n"
   ]
  },
  {
   "cell_type": "code",
   "execution_count": null,
   "metadata": {
    "collapsed": true
   },
   "outputs": [],
   "source": []
  },
  {
   "cell_type": "code",
   "execution_count": null,
   "metadata": {
    "collapsed": true
   },
   "outputs": [],
   "source": [
    "import seaborn as sns\n",
    "# sns.set(font_scale=0.5)\n",
    "\n",
    "plt.figure(figsize=(2.5,5), dpi = 200)\n",
    "sns.heatmap(data = data, cmap = 'RdBu', vmin=-10, vmax = +5, center = -4)\n",
    "\n",
    "plt.xlabel('Action')\n",
    "plt.ylabel('Sampled states')\n",
    "plt.xticks()\n",
    "# plt.yticks(fontsize = 6)\n",
    "# cbar.set_label(\"predicted SINR (db)\", size=6)\n",
    "# cbar.ax.tick_params(labelsize=6)\n",
    "plt.show()"
   ]
  },
  {
   "cell_type": "code",
   "execution_count": null,
   "metadata": {
    "collapsed": true
   },
   "outputs": [],
   "source": [
    "\n",
    "qhat = [np.argmax(Q_model.predict(np.array(s).reshape(1,-1))[0])\n",
    "        for s in unique_states_df.state_norm.tolist()]\n",
    "\n"
   ]
  },
  {
   "cell_type": "code",
   "execution_count": null,
   "metadata": {
    "collapsed": true
   },
   "outputs": [],
   "source": [
    "ticks = np.unique(qhat)\n",
    "plt.figure(figsize = (6,1), dpi = 200)\n",
    "plt.hist(qhat, bins=126)\n",
    "plt.xticks(ticks)\n",
    "plt.show()"
   ]
  },
  {
   "cell_type": "code",
   "execution_count": null,
   "metadata": {
    "collapsed": true
   },
   "outputs": [],
   "source": [
    "Qhat = [Q_model.predict(np.array(s).reshape(1,-1))[0]\n",
    "        for s in unique_states_df.state_norm.tolist()]\n"
   ]
  },
  {
   "cell_type": "code",
   "execution_count": null,
   "metadata": {
    "collapsed": true
   },
   "outputs": [],
   "source": [
    "test = np.array(Qhat).flatten()\n",
    "plt.hist(test)\n",
    "plt.show()"
   ]
  },
  {
   "cell_type": "code",
   "execution_count": null,
   "metadata": {
    "collapsed": true
   },
   "outputs": [],
   "source": [
    "Qdata = pd.DataFrame(data = np.array(Qhat),columns = np.arange(126).astype(str))"
   ]
  },
  {
   "cell_type": "code",
   "execution_count": null,
   "metadata": {
    "collapsed": true
   },
   "outputs": [],
   "source": [
    "import seaborn as sns\n",
    "# sns.set(font_scale=0.5)\n",
    "\n",
    "plt.figure(figsize=(2.5,5), dpi = 200)\n",
    "sns.heatmap(data = Qdata, cmap = 'RdBu', vmin = -50, vmax = 10)\n",
    "\n",
    "plt.xlabel('Action')\n",
    "plt.ylabel('Sampled states')\n",
    "plt.xticks()\n",
    "# plt.yticks(fontsize = 6)\n",
    "# cbar.set_label(\"predicted SINR (db)\", size=6)\n",
    "# cbar.ax.tick_params(labelsize=6)\n",
    "plt.show()"
   ]
  },
  {
   "cell_type": "code",
   "execution_count": null,
   "metadata": {
    "collapsed": true
   },
   "outputs": [],
   "source": []
  },
  {
   "cell_type": "code",
   "execution_count": null,
   "metadata": {
    "collapsed": true
   },
   "outputs": [],
   "source": []
  },
  {
   "cell_type": "code",
   "execution_count": null,
   "metadata": {
    "collapsed": true
   },
   "outputs": [],
   "source": []
  },
  {
   "cell_type": "code",
   "execution_count": null,
   "metadata": {
    "collapsed": true
   },
   "outputs": [],
   "source": []
  },
  {
   "cell_type": "code",
   "execution_count": null,
   "metadata": {
    "collapsed": true
   },
   "outputs": [],
   "source": []
  },
  {
   "cell_type": "markdown",
   "metadata": {
    "collapsed": true
   },
   "source": [
    "## Playground"
   ]
  },
  {
   "cell_type": "code",
   "execution_count": null,
   "metadata": {
    "collapsed": true
   },
   "outputs": [],
   "source": []
  },
  {
   "cell_type": "code",
   "execution_count": null,
   "metadata": {
    "collapsed": true
   },
   "outputs": [],
   "source": []
  },
  {
   "cell_type": "code",
   "execution_count": null,
   "metadata": {
    "collapsed": true
   },
   "outputs": [],
   "source": []
  },
  {
   "cell_type": "code",
   "execution_count": null,
   "metadata": {
    "collapsed": true
   },
   "outputs": [],
   "source": []
  },
  {
   "cell_type": "code",
   "execution_count": null,
   "metadata": {
    "collapsed": true
   },
   "outputs": [],
   "source": []
  },
  {
   "cell_type": "code",
   "execution_count": null,
   "metadata": {
    "collapsed": true
   },
   "outputs": [],
   "source": []
  },
  {
   "cell_type": "code",
   "execution_count": null,
   "metadata": {
    "collapsed": true
   },
   "outputs": [],
   "source": [
    "\n"
   ]
  },
  {
   "cell_type": "code",
   "execution_count": null,
   "metadata": {
    "collapsed": true
   },
   "outputs": [],
   "source": []
  },
  {
   "cell_type": "code",
   "execution_count": null,
   "metadata": {
    "collapsed": true
   },
   "outputs": [],
   "source": []
  }
 ],
 "metadata": {
  "kernelspec": {
   "display_name": "Python 3",
   "language": "python",
   "name": "python3"
  },
  "language_info": {
   "codemirror_mode": {
    "name": "ipython",
    "version": 3
   },
   "file_extension": ".py",
   "mimetype": "text/x-python",
   "name": "python",
   "nbconvert_exporter": "python",
   "pygments_lexer": "ipython3",
   "version": "3.6.2"
  }
 },
 "nbformat": 4,
 "nbformat_minor": 2
}
