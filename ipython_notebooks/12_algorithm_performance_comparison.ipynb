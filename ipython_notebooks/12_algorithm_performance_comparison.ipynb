{
 "cells": [
  {
   "cell_type": "code",
   "execution_count": 1,
   "metadata": {
    "collapsed": true
   },
   "outputs": [],
   "source": [
    "# the required imports\n",
    "import pandas as pd\n",
    "import numpy as np\n",
    "\n",
    "import scipy.stats as st"
   ]
  },
  {
   "cell_type": "code",
   "execution_count": 2,
   "metadata": {
    "collapsed": true
   },
   "outputs": [],
   "source": [
    "# loading the random policy results\n",
    "path = '/home/mawongh/ws/datasets/model-based_results/'\n",
    "rnd = pd.read_csv(path + '170821_randompolicy_for_benchmark.csv')\n",
    "g00_e01 = pd.read_csv(path + '170822_model-based_history_g00_e_01.csv')\n",
    "g05_e00 = pd.read_csv(path + '170828_model-based_history_g05_e00.csv')\n",
    "g09_e00 = pd.read_csv(path + '170827_model-based_history_g09_e00.csv')\n",
    "sarsa_50k = pd.read_csv(path + '170903_SARSA_training_history_g09.csv').tail(10000)\n",
    "dqn_50k = pd.read_csv(path + '170914_DQN_50K_g09_history.csv').tail(10000)\n",
    "dqn_300k_A = pd.read_csv(path + 'dqn_A_eval_history.csv')\n",
    "dqn_300k_B = pd.read_csv(path + 'dqn_B_eval_history.csv')\n",
    "# g00_e03 = pd.read_csv(path + '170820_model-based_history_g00_e_03.csv')\n",
    "# g00_e05 = pd.read_csv(path + '170823_model-based_history_g00_e_05.csv')\n",
    "# data = pd.concat([rnd, g00_e01, g00_e03, g00_e05], ignore_index=True)\n",
    "# names = data.columns.values\n",
    "# names[1] = 'step'\n",
    "# data.columns = names\n",
    "# data.tail(3)"
   ]
  },
  {
   "cell_type": "code",
   "execution_count": 3,
   "metadata": {
    "collapsed": true
   },
   "outputs": [],
   "source": [
    "def get_mean_ci(data, ci):\n",
    "    mu = np.mean(data)\n",
    "    ci = st.t.interval(ci, len(rnd)-1, loc=mu, scale=st.sem(data))\n",
    "    return mu,ci"
   ]
  },
  {
   "cell_type": "code",
   "execution_count": 4,
   "metadata": {},
   "outputs": [
    {
     "data": {
      "text/html": [
       "<div>\n",
       "<style>\n",
       "    .dataframe thead tr:only-child th {\n",
       "        text-align: right;\n",
       "    }\n",
       "\n",
       "    .dataframe thead th {\n",
       "        text-align: left;\n",
       "    }\n",
       "\n",
       "    .dataframe tbody tr th {\n",
       "        vertical-align: top;\n",
       "    }\n",
       "</style>\n",
       "<table border=\"1\" class=\"dataframe\">\n",
       "  <thead>\n",
       "    <tr style=\"text-align: right;\">\n",
       "      <th></th>\n",
       "      <th>algorithm</th>\n",
       "      <th>mean</th>\n",
       "      <th>confidence interval (95%)</th>\n",
       "    </tr>\n",
       "  </thead>\n",
       "  <tbody>\n",
       "    <tr>\n",
       "      <th>0</th>\n",
       "      <td>Random Policy</td>\n",
       "      <td>-4.056851</td>\n",
       "      <td>(-4.10529274247, -4.00841011741)</td>\n",
       "    </tr>\n",
       "    <tr>\n",
       "      <th>1</th>\n",
       "      <td>adp, gamma = 0.0</td>\n",
       "      <td>-5.702994</td>\n",
       "      <td>(-5.73659158488, -5.66939595471)</td>\n",
       "    </tr>\n",
       "    <tr>\n",
       "      <th>2</th>\n",
       "      <td>adp, gamma = 0.5</td>\n",
       "      <td>-3.939372</td>\n",
       "      <td>(-3.95323869589, -3.92550547859)</td>\n",
       "    </tr>\n",
       "    <tr>\n",
       "      <th>3</th>\n",
       "      <td>adp, gamma = 0.9</td>\n",
       "      <td>2.310125</td>\n",
       "      <td>(2.28172689544, 2.33852213282)</td>\n",
       "    </tr>\n",
       "    <tr>\n",
       "      <th>4</th>\n",
       "      <td>sarsa, gamma = 0.9</td>\n",
       "      <td>-3.398235</td>\n",
       "      <td>(-3.45285255257, -3.34361782371)</td>\n",
       "    </tr>\n",
       "    <tr>\n",
       "      <th>5</th>\n",
       "      <td>dqn, gamma = 0.9</td>\n",
       "      <td>-5.830695</td>\n",
       "      <td>(-5.86170099964, -5.79968915204)</td>\n",
       "    </tr>\n",
       "    <tr>\n",
       "      <th>6</th>\n",
       "      <td>dqn 300k A, gamma = 0.9</td>\n",
       "      <td>-5.492325</td>\n",
       "      <td>(-5.52590910453, -5.45874105197)</td>\n",
       "    </tr>\n",
       "    <tr>\n",
       "      <th>7</th>\n",
       "      <td>dqn 300k B, gamma = 0.9</td>\n",
       "      <td>-6.116946</td>\n",
       "      <td>(-6.1449981248, -6.08889302574)</td>\n",
       "    </tr>\n",
       "  </tbody>\n",
       "</table>\n",
       "</div>"
      ],
      "text/plain": [
       "                 algorithm      mean         confidence interval (95%)\n",
       "0            Random Policy -4.056851  (-4.10529274247, -4.00841011741)\n",
       "1         adp, gamma = 0.0 -5.702994  (-5.73659158488, -5.66939595471)\n",
       "2         adp, gamma = 0.5 -3.939372  (-3.95323869589, -3.92550547859)\n",
       "3         adp, gamma = 0.9  2.310125    (2.28172689544, 2.33852213282)\n",
       "4       sarsa, gamma = 0.9 -3.398235  (-3.45285255257, -3.34361782371)\n",
       "5         dqn, gamma = 0.9 -5.830695  (-5.86170099964, -5.79968915204)\n",
       "6  dqn 300k A, gamma = 0.9 -5.492325  (-5.52590910453, -5.45874105197)\n",
       "7  dqn 300k B, gamma = 0.9 -6.116946   (-6.1449981248, -6.08889302574)"
      ]
     },
     "execution_count": 4,
     "metadata": {},
     "output_type": "execute_result"
    }
   ],
   "source": [
    "results = pd.DataFrame(columns = ['algorithm', 'mean', 'confidence interval (95%)'])\n",
    "\n",
    "mu, ci = get_mean_ci(rnd.reward, 0.95)\n",
    "results = results.append({'algorithm': 'Random Policy',\n",
    "                          'mean':mu, 'confidence interval (95%)':ci},\n",
    "              ignore_index=True)\n",
    "mu, ci = get_mean_ci(g00_e01.reward, 0.95)\n",
    "results = results.append({'algorithm': 'adp, gamma = 0.0',\n",
    "                          'mean':mu, 'confidence interval (95%)':ci},\n",
    "              ignore_index=True)\n",
    "\n",
    "mu, ci = get_mean_ci(g05_e00.reward, 0.95)\n",
    "results = results.append({'algorithm': 'adp, gamma = 0.5',\n",
    "                          'mean':mu, 'confidence interval (95%)':ci},\n",
    "              ignore_index=True)\n",
    "\n",
    "mu, ci = get_mean_ci(g09_e00.reward, 0.95)\n",
    "results = results.append({'algorithm': 'adp, gamma = 0.9',\n",
    "                          'mean':mu, 'confidence interval (95%)':ci},\n",
    "              ignore_index=True)\n",
    "\n",
    "mu, ci = get_mean_ci(sarsa_50k.reward, 0.95)\n",
    "results = results.append({'algorithm': 'sarsa, gamma = 0.9',\n",
    "                          'mean':mu, 'confidence interval (95%)':ci},\n",
    "              ignore_index=True)\n",
    "\n",
    "mu, ci = get_mean_ci(dqn_50k.reward, 0.95)\n",
    "results = results.append({'algorithm': 'dqn, gamma = 0.9',\n",
    "                          'mean':mu, 'confidence interval (95%)':ci},\n",
    "              ignore_index=True)\n",
    "\n",
    "mu, ci = get_mean_ci(dqn_300k_A.reward, 0.95)\n",
    "results = results.append({'algorithm': 'dqn 300k A, gamma = 0.9',\n",
    "                          'mean':mu, 'confidence interval (95%)':ci},\n",
    "              ignore_index=True)\n",
    "\n",
    "mu, ci = get_mean_ci(dqn_300k_B.reward, 0.95)\n",
    "results = results.append({'algorithm': 'dqn 300k B, gamma = 0.9',\n",
    "                          'mean':mu, 'confidence interval (95%)':ci},\n",
    "              ignore_index=True)\n",
    "results\n"
   ]
  },
  {
   "cell_type": "code",
   "execution_count": null,
   "metadata": {},
   "outputs": [],
   "source": []
  },
  {
   "cell_type": "code",
   "execution_count": null,
   "metadata": {
    "collapsed": true
   },
   "outputs": [],
   "source": []
  },
  {
   "cell_type": "code",
   "execution_count": null,
   "metadata": {
    "collapsed": true
   },
   "outputs": [],
   "source": []
  },
  {
   "cell_type": "code",
   "execution_count": null,
   "metadata": {
    "collapsed": true
   },
   "outputs": [],
   "source": []
  },
  {
   "cell_type": "code",
   "execution_count": null,
   "metadata": {
    "collapsed": true
   },
   "outputs": [],
   "source": []
  },
  {
   "cell_type": "code",
   "execution_count": null,
   "metadata": {
    "collapsed": true
   },
   "outputs": [],
   "source": []
  },
  {
   "cell_type": "code",
   "execution_count": null,
   "metadata": {
    "collapsed": true
   },
   "outputs": [],
   "source": []
  },
  {
   "cell_type": "code",
   "execution_count": null,
   "metadata": {
    "collapsed": true
   },
   "outputs": [],
   "source": []
  },
  {
   "cell_type": "code",
   "execution_count": null,
   "metadata": {
    "collapsed": true
   },
   "outputs": [],
   "source": []
  }
 ],
 "metadata": {
  "kernelspec": {
   "display_name": "Python 3",
   "language": "python",
   "name": "python3"
  },
  "language_info": {
   "codemirror_mode": {
    "name": "ipython",
    "version": 3
   },
   "file_extension": ".py",
   "mimetype": "text/x-python",
   "name": "python",
   "nbconvert_exporter": "python",
   "pygments_lexer": "ipython3",
   "version": "3.6.2"
  }
 },
 "nbformat": 4,
 "nbformat_minor": 2
}
