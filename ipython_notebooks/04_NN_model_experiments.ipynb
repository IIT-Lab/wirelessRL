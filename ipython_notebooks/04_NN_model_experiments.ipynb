{
 "cells": [
  {
   "cell_type": "markdown",
   "metadata": {},
   "source": [
    "### Obtaining the best perfoming hyperparameter for NN model of the environment\n",
    "This notebook compares the raw feature selection from the state against the feature construction based on domain knowlegde"
   ]
  },
  {
   "cell_type": "code",
   "execution_count": 1,
   "metadata": {},
   "outputs": [
    {
     "name": "stderr",
     "output_type": "stream",
     "text": [
      "Using TensorFlow backend.\n"
     ]
    }
   ],
   "source": [
    "# the required imports\n",
    "import numpy as np\n",
    "import pandas as pd\n",
    "# from linear_aproximation import Model\n",
    "# from environment import network\n",
    "import matplotlib.pyplot as plt\n",
    "import re\n",
    "from sklearn.model_selection import train_test_split\n",
    "from sklearn import linear_model\n",
    "from sklearn.metrics import mean_squared_error, r2_score\n",
    "from sklearn.preprocessing import StandardScaler\n",
    "\n",
    "# additional import for the Neural Network\n",
    "from keras.layers import Dense\n",
    "from keras.models import Sequential\n",
    "import tensorflow as tf\n"
   ]
  },
  {
   "cell_type": "code",
   "execution_count": 2,
   "metadata": {},
   "outputs": [
    {
     "data": {
      "text/html": [
       "<div>\n",
       "<style>\n",
       "    .dataframe thead tr:only-child th {\n",
       "        text-align: right;\n",
       "    }\n",
       "\n",
       "    .dataframe thead th {\n",
       "        text-align: left;\n",
       "    }\n",
       "\n",
       "    .dataframe tbody tr th {\n",
       "        vertical-align: top;\n",
       "    }\n",
       "</style>\n",
       "<table border=\"1\" class=\"dataframe\">\n",
       "  <thead>\n",
       "    <tr style=\"text-align: right;\">\n",
       "      <th></th>\n",
       "      <th>action</th>\n",
       "      <th>reward</th>\n",
       "      <th>s_next</th>\n",
       "      <th>state</th>\n",
       "    </tr>\n",
       "  </thead>\n",
       "  <tbody>\n",
       "    <tr>\n",
       "      <th>299475</th>\n",
       "      <td>121.0</td>\n",
       "      <td>-2.915486</td>\n",
       "      <td>[2733, 2733, 2733, 3200, 3200, 3200, 2500, 250...</td>\n",
       "      <td>[2733, 2733, 2733, 3200, 3200, 3200, 2500, 250...</td>\n",
       "    </tr>\n",
       "    <tr>\n",
       "      <th>299476</th>\n",
       "      <td>121.0</td>\n",
       "      <td>-3.054551</td>\n",
       "      <td>[2733, 2733, 2733, 3200, 3200, 3200, 2500, 250...</td>\n",
       "      <td>[2733, 2733, 2733, 3200, 3200, 3200, 2500, 250...</td>\n",
       "    </tr>\n",
       "    <tr>\n",
       "      <th>299477</th>\n",
       "      <td>121.0</td>\n",
       "      <td>-2.653020</td>\n",
       "      <td>[2733, 2733, 2733, 3200, 3200, 3200, 2500, 250...</td>\n",
       "      <td>[2733, 2733, 2733, 3200, 3200, 3200, 2500, 250...</td>\n",
       "    </tr>\n",
       "  </tbody>\n",
       "</table>\n",
       "</div>"
      ],
      "text/plain": [
       "        action    reward                                             s_next  \\\n",
       "299475   121.0 -2.915486  [2733, 2733, 2733, 3200, 3200, 3200, 2500, 250...   \n",
       "299476   121.0 -3.054551  [2733, 2733, 2733, 3200, 3200, 3200, 2500, 250...   \n",
       "299477   121.0 -2.653020  [2733, 2733, 2733, 3200, 3200, 3200, 2500, 250...   \n",
       "\n",
       "                                                    state  \n",
       "299475  [2733, 2733, 2733, 3200, 3200, 3200, 2500, 250...  \n",
       "299476  [2733, 2733, 2733, 3200, 3200, 3200, 2500, 250...  \n",
       "299477  [2733, 2733, 2733, 3200, 3200, 3200, 2500, 250...  "
      ]
     },
     "execution_count": 2,
     "metadata": {},
     "output_type": "execute_result"
    }
   ],
   "source": [
    "# path = '/Users/mawongh/OneDrive/REFERENCE FILE/D/Disertation/brainstorming/'\n",
    "path = '/home/mawongh/ws/datasets/'\n",
    "dataset = pd.read_pickle(path + 'full_dataset.pickle')\n",
    "dataset.tail(3)"
   ]
  },
  {
   "cell_type": "code",
   "execution_count": 35,
   "metadata": {
    "collapsed": true
   },
   "outputs": [],
   "source": [
    "# creates an empty dataframe\n",
    "outputfile = 'NN_results_2.csv'\n",
    "df = pd.DataFrame(columns = ['algorithm', 'sample_size',\n",
    "                             'mse', 'data'])\n",
    "df.to_csv(path + outputfile, index=False)\n",
    "\n",
    "# # the sample sizes\n",
    "N = len(dataset)\n",
    "sample_sizes = np.array([75000, 120000, 150000])\n",
    "# sample_sizes = np.array([1000, 2000, 3000])\n",
    "sample_sizes_n = len(sample_sizes)"
   ]
  },
  {
   "cell_type": "code",
   "execution_count": 36,
   "metadata": {
    "collapsed": true
   },
   "outputs": [],
   "source": [
    "from keras import optimizers\n",
    "\n",
    "\n",
    "\n",
    "def train_model6(num_epochs = 20):\n",
    "    for epoch in np.arange(num_epochs):\n",
    "        print('model: 6, epoch: {}'.format(epoch))\n",
    "        for step in np.arange(len(S_train)):\n",
    "            s = S_train[step].reshape(1,-1)\n",
    "            r = model6.predict_on_batch(s)\n",
    "            r[0,int(a_train[step])] = r_train[step]\n",
    "            model6.train_on_batch(s,r)"
   ]
  },
  {
   "cell_type": "code",
   "execution_count": null,
   "metadata": {
    "collapsed": true
   },
   "outputs": [],
   "source": [
    "# s = S_train[0].reshape(1,-1)\n",
    "# r = model6.predict_on_batch(s)\n",
    "# print(r_train[0])\n",
    "# print(a_train[0])\n",
    "# r[0,int(a_train[0])] = r_train[0]\n",
    "# model6.train_on_batch(s,r)"
   ]
  },
  {
   "cell_type": "code",
   "execution_count": null,
   "metadata": {
    "collapsed": true
   },
   "outputs": [],
   "source": [
    "# # creates the model, it has to be every time to prevent pre-trained weights\n",
    "# model6 = Sequential()\n",
    "# n_cols = 105\n",
    "\n",
    "# # model 6\n",
    "# model6.add(Dense(400, activation = 'relu', input_shape=(n_cols,)))\n",
    "# model6.add(Dense(400, activation = 'relu'))\n",
    "# model6.add(Dense(400, activation = 'relu'))\n",
    "# model6.add(Dense(126, activation = 'linear'))\n",
    "# model6.compile(optimizer=optimizers.Adam(), loss='mean_squared_error')\n",
    "\n",
    "# np.random.seed(1898)\n",
    "# N = len(dataset)\n",
    "# sample_size = 75000\n",
    "# sample_indexes = np.random.choice(np.arange(N), size = sample_size, replace=False)\n",
    "# study_dataset = dataset.iloc[sample_indexes]\n",
    "\n",
    "# S = np.array([x for x in study_dataset.state])\n",
    "# a_r = study_dataset[['action', 'reward']].values\n",
    "\n",
    "# S_train, S_test, a_r_train, a_r_test = train_test_split(\n",
    "#     S, a_r, test_size=0.15, random_state=42)\n",
    "\n",
    "# a_train = a_r_train[:,0]\n",
    "# a_test = a_r_test[:,0]\n",
    "\n",
    "# r_train = a_r_train[:,1]\n",
    "# r_test = a_r_test[:,1]\n",
    "\n",
    "# train_model6(num_epochs = 20)"
   ]
  },
  {
   "cell_type": "code",
   "execution_count": null,
   "metadata": {
    "collapsed": true
   },
   "outputs": [],
   "source": [
    "# y_pred = model6.predict(S_train)\n",
    "# r_hat = np.array([y_pred[i,int(a_train[i])] for i in np.arange(len(S_train))])\n",
    "# train_MSE = mean_squared_error(r_train, r_hat)\n",
    "# print('train MSE: {}'.format(train_MSE))\n",
    "\n",
    "# # y_pred = model6.predict(S_test)\n",
    "# # r_hat = np.array([y_pred[i,int(a_test[i])] for i in np.arange(len(S_test))])\n",
    "# # test_MSE = mean_squared_error(r_test, r_hat)\n",
    "# # print('test MSE: {}'.format(test_MSE))\n"
   ]
  },
  {
   "cell_type": "code",
   "execution_count": null,
   "metadata": {
    "collapsed": true
   },
   "outputs": [],
   "source": [
    "len(y_pred)"
   ]
  },
  {
   "cell_type": "code",
   "execution_count": null,
   "metadata": {},
   "outputs": [
    {
     "name": "stdout",
     "output_type": "stream",
     "text": [
      "experiment: 0, sample_size: 75000\n",
      "model: 6, epoch: 0\n",
      "model: 6, epoch: 1\n",
      "model: 6, epoch: 2\n",
      "model: 6, epoch: 3\n",
      "train MSE: 1.8267032455259822\n",
      "test MSE: 1.8672161858997611\n",
      "experiment: 1, sample_size: 75000\n",
      "model: 6, epoch: 0\n",
      "model: 6, epoch: 1\n",
      "model: 6, epoch: 2\n",
      "model: 6, epoch: 3\n",
      "model: 6, epoch: 4\n",
      "model: 6, epoch: 5\n",
      "model: 6, epoch: 6\n",
      "model: 6, epoch: 7\n",
      "model: 6, epoch: 8\n",
      "model: 6, epoch: 9\n",
      "model: 6, epoch: 10\n",
      "model: 6, epoch: 11\n"
     ]
    }
   ],
   "source": [
    "from sklearn.preprocessing import StandardScaler\n",
    "num_of_experiments = 10\n",
    "# S = np.array([x for x in study_dataset.state])\n",
    "\n",
    "for experiments in np.arange(num_of_experiments):\n",
    "    sample_indexes = [np.random.choice(np.arange(N), size = sz, replace=False)\n",
    "                     for sz in sample_sizes]\n",
    "    # np.random.choice(np.arange(10), size =5, replace=False)\n",
    "    study_dataset = [dataset.iloc[idx] for idx in sample_indexes]\n",
    "    \n",
    "    \n",
    "    S_woScale = [study_dataset[i].state.tolist() for i in np.arange(len(study_dataset))]\n",
    "    a_r = [df[['action', 'reward']].values for df in study_dataset]\n",
    "    \n",
    "    scaler = StandardScaler()\n",
    "    \n",
    "    S = [scaler.fit_transform(S_woScale[i]) for i in np.arange(len(S_woScale))]\n",
    "\n",
    "    \n",
    "    for ds_idx in np.arange(sample_sizes_n):\n",
    "        \n",
    "        #splitting dataset into train/test\n",
    "        S_train, S_test, a_r_train, a_r_test = train_test_split(\n",
    "            S[ds_idx], a_r[ds_idx], test_size=0.15, random_state=42)\n",
    "        \n",
    "        a_train = a_r_train[:,0]\n",
    "        a_test = a_r_test[:,0]\n",
    "        \n",
    "        r_train = a_r_train[:,1]\n",
    "        r_test = a_r_test[:,1]\n",
    "        \n",
    "#         new_S_train = np.array([S_train[i] for i in np.arange(len(S_train))])\n",
    "#         S_train = new_S_train\n",
    "#         new_S_test = np.array([S_test[i] for i in np.arange(len(S_test))])\n",
    "#         S_test = new_S_test\n",
    "\n",
    "        \n",
    "        # creates the model, it has to be every time to prevent pre-trained weights\n",
    "        model6 = Sequential()\n",
    "        n_cols = 105\n",
    "\n",
    "        # model 6\n",
    "        model6.add(Dense(400, activation = 'relu', input_shape=(n_cols,)))\n",
    "        model6.add(Dense(400, activation = 'relu'))\n",
    "        model6.add(Dense(400, activation = 'relu'))\n",
    "        model6.add(Dense(126, activation = 'linear'))\n",
    "        model6.compile(optimizer=optimizers.Adam(), loss='mean_squared_error')\n",
    "        \n",
    "        print('experiment: {}, sample_size: {}'.format(experiments,len(S[ds_idx])))\n",
    "        train_model6(num_epochs = 20)\n",
    "#         print('trained!')\n",
    "        \n",
    "        y_pred = model6.predict(S_train)\n",
    "        r_hat = np.array([y_pred[i,int(a_train[i])] for i in np.arange(len(S_train))])\n",
    "        train_MSE = mean_squared_error(r_train, r_hat)\n",
    "        print('train MSE: {}'.format(train_MSE))\n",
    "        \n",
    "        y_pred = model6.predict(S_test)\n",
    "        r_hat = np.array([y_pred[i,int(a_test[i])] for i in np.arange(len(S_test))])\n",
    "        test_MSE = mean_squared_error(r_test, r_hat)\n",
    "        print('test MSE: {}'.format(test_MSE))\n",
    "        \n",
    "        algorithm = 'NN Model 6'\n",
    "        record = df.append({'algorithm': algorithm,\n",
    "                            'sample_size': len(S[ds_idx]),\n",
    "                            'mse': train_MSE,\n",
    "                            'data': 'Train'},\n",
    "                           ignore_index=True)\n",
    "        record = record.append({'algorithm': algorithm,\n",
    "                                'sample_size': len(S[ds_idx]),\n",
    "                                'mse': test_MSE,\n",
    "                                'data': 'Test'},\n",
    "                               ignore_index=True)\n",
    "        # saves the dataframe for further analysis\n",
    "        record.to_csv(path + outputfile, mode='a', header=False, index=False)\n",
    "        \n",
    "    "
   ]
  },
  {
   "cell_type": "code",
   "execution_count": 39,
   "metadata": {},
   "outputs": [
    {
     "data": {
      "text/plain": [
       "'/home/mawongh/ws/datasets/NN_results_2.csv'"
      ]
     },
     "execution_count": 39,
     "metadata": {},
     "output_type": "execute_result"
    }
   ],
   "source": [
    "path + outputfile"
   ]
  },
  {
   "cell_type": "code",
   "execution_count": 40,
   "metadata": {},
   "outputs": [
    {
     "data": {
      "text/html": [
       "<div>\n",
       "<style>\n",
       "    .dataframe thead tr:only-child th {\n",
       "        text-align: right;\n",
       "    }\n",
       "\n",
       "    .dataframe thead th {\n",
       "        text-align: left;\n",
       "    }\n",
       "\n",
       "    .dataframe tbody tr th {\n",
       "        vertical-align: top;\n",
       "    }\n",
       "</style>\n",
       "<table border=\"1\" class=\"dataframe\">\n",
       "  <thead>\n",
       "    <tr style=\"text-align: right;\">\n",
       "      <th></th>\n",
       "      <th>algorithm</th>\n",
       "      <th>sample_size</th>\n",
       "      <th>mse</th>\n",
       "      <th>data</th>\n",
       "    </tr>\n",
       "  </thead>\n",
       "  <tbody>\n",
       "    <tr>\n",
       "      <th>0</th>\n",
       "      <td>NN Model 6</td>\n",
       "      <td>75000</td>\n",
       "      <td>1.638136</td>\n",
       "      <td>Train</td>\n",
       "    </tr>\n",
       "    <tr>\n",
       "      <th>1</th>\n",
       "      <td>NN Model 6</td>\n",
       "      <td>75000</td>\n",
       "      <td>7.283074</td>\n",
       "      <td>Test</td>\n",
       "    </tr>\n",
       "    <tr>\n",
       "      <th>2</th>\n",
       "      <td>NN Model 6</td>\n",
       "      <td>120000</td>\n",
       "      <td>1.806626</td>\n",
       "      <td>Train</td>\n",
       "    </tr>\n",
       "    <tr>\n",
       "      <th>3</th>\n",
       "      <td>NN Model 6</td>\n",
       "      <td>120000</td>\n",
       "      <td>1.738808</td>\n",
       "      <td>Test</td>\n",
       "    </tr>\n",
       "    <tr>\n",
       "      <th>4</th>\n",
       "      <td>NN Model 6</td>\n",
       "      <td>150000</td>\n",
       "      <td>1.826703</td>\n",
       "      <td>Train</td>\n",
       "    </tr>\n",
       "  </tbody>\n",
       "</table>\n",
       "</div>"
      ],
      "text/plain": [
       "    algorithm  sample_size       mse   data\n",
       "0  NN Model 6        75000  1.638136  Train\n",
       "1  NN Model 6        75000  7.283074   Test\n",
       "2  NN Model 6       120000  1.806626  Train\n",
       "3  NN Model 6       120000  1.738808   Test\n",
       "4  NN Model 6       150000  1.826703  Train"
      ]
     },
     "execution_count": 40,
     "metadata": {},
     "output_type": "execute_result"
    }
   ],
   "source": [
    "results = pd.read_csv(path + outputfile)\n",
    "results.head()"
   ]
  },
  {
   "cell_type": "code",
   "execution_count": 44,
   "metadata": {},
   "outputs": [
    {
     "data": {
      "image/png": "[encoded data removed]",
      "text/plain": [
       "<matplotlib.figure.Figure at 0x7ff6ea39cac8>"
      ]
     },
     "metadata": {},
     "output_type": "display_data"
    }
   ],
   "source": [
    "import seaborn as sns\n",
    "plt.figure(figsize=(3,4), dpi=150)\n",
    "sns.boxplot(x=\"data\", y=\"mse\", data=results)\n",
    "plt.show()"
   ]
  },
  {
   "cell_type": "code",
   "execution_count": null,
   "metadata": {
    "collapsed": true
   },
   "outputs": [],
   "source": []
  },
  {
   "cell_type": "code",
   "execution_count": null,
   "metadata": {
    "collapsed": true
   },
   "outputs": [],
   "source": []
  },
  {
   "cell_type": "code",
   "execution_count": null,
   "metadata": {
    "collapsed": true
   },
   "outputs": [],
   "source": []
  },
  {
   "cell_type": "code",
   "execution_count": null,
   "metadata": {
    "collapsed": true
   },
   "outputs": [],
   "source": [
    "\n"
   ]
  },
  {
   "cell_type": "code",
   "execution_count": null,
   "metadata": {
    "collapsed": true
   },
   "outputs": [],
   "source": [
    "\n"
   ]
  },
  {
   "cell_type": "code",
   "execution_count": null,
   "metadata": {
    "collapsed": true
   },
   "outputs": [],
   "source": []
  },
  {
   "cell_type": "code",
   "execution_count": null,
   "metadata": {
    "collapsed": true
   },
   "outputs": [],
   "source": []
  },
  {
   "cell_type": "code",
   "execution_count": null,
   "metadata": {
    "collapsed": true
   },
   "outputs": [],
   "source": []
  },
  {
   "cell_type": "code",
   "execution_count": null,
   "metadata": {
    "collapsed": true
   },
   "outputs": [],
   "source": []
  },
  {
   "cell_type": "code",
   "execution_count": null,
   "metadata": {
    "collapsed": true
   },
   "outputs": [],
   "source": []
  },
  {
   "cell_type": "code",
   "execution_count": null,
   "metadata": {
    "collapsed": true
   },
   "outputs": [],
   "source": []
  },
  {
   "cell_type": "code",
   "execution_count": null,
   "metadata": {
    "collapsed": true
   },
   "outputs": [],
   "source": []
  },
  {
   "cell_type": "code",
   "execution_count": null,
   "metadata": {
    "collapsed": true
   },
   "outputs": [],
   "source": []
  },
  {
   "cell_type": "code",
   "execution_count": null,
   "metadata": {
    "collapsed": true
   },
   "outputs": [],
   "source": []
  },
  {
   "cell_type": "markdown",
   "metadata": {
    "collapsed": true
   },
   "source": [
    "## Playground"
   ]
  },
  {
   "cell_type": "code",
   "execution_count": null,
   "metadata": {
    "collapsed": true
   },
   "outputs": [],
   "source": [
    "np.array([[1,2], [1], [2,3]])"
   ]
  },
  {
   "cell_type": "code",
   "execution_count": null,
   "metadata": {
    "collapsed": true
   },
   "outputs": [],
   "source": [
    "np.random.choice(20, 30, replace=False)"
   ]
  },
  {
   "cell_type": "code",
   "execution_count": null,
   "metadata": {
    "collapsed": true
   },
   "outputs": [],
   "source": [
    "np.min([20, 30])"
   ]
  },
  {
   "cell_type": "code",
   "execution_count": null,
   "metadata": {
    "collapsed": true
   },
   "outputs": [],
   "source": [
    "100 % 100"
   ]
  },
  {
   "cell_type": "code",
   "execution_count": null,
   "metadata": {
    "collapsed": true
   },
   "outputs": [],
   "source": [
    "model.get_weights()"
   ]
  },
  {
   "cell_type": "code",
   "execution_count": null,
   "metadata": {
    "collapsed": true
   },
   "outputs": [],
   "source": [
    "s = np.array([10, 20, 40, 50])\n",
    "s.reshape(1,-1)[0]"
   ]
  },
  {
   "cell_type": "code",
   "execution_count": null,
   "metadata": {
    "collapsed": true
   },
   "outputs": [],
   "source": [
    "model.get_weights()s.reshape(-1,1)"
   ]
  },
  {
   "cell_type": "code",
   "execution_count": null,
   "metadata": {
    "collapsed": true
   },
   "outputs": [],
   "source": [
    "model.save('test.h5')\n",
    "\n",
    "\n"
   ]
  },
  {
   "cell_type": "code",
   "execution_count": null,
   "metadata": {
    "collapsed": true
   },
   "outputs": [],
   "source": [
    "print(\"%03d\" % (100,))"
   ]
  },
  {
   "cell_type": "code",
   "execution_count": null,
   "metadata": {
    "collapsed": true
   },
   "outputs": [],
   "source": []
  }
 ],
 "metadata": {
  "kernelspec": {
   "display_name": "Python 3",
   "language": "python",
   "name": "python3"
  },
  "language_info": {
   "codemirror_mode": {
    "name": "ipython",
    "version": 3
   },
   "file_extension": ".py",
   "mimetype": "text/x-python",
   "name": "python",
   "nbconvert_exporter": "python",
   "pygments_lexer": "ipython3",
   "version": "3.6.2"
  }
 },
 "nbformat": 4,
 "nbformat_minor": 2
}
