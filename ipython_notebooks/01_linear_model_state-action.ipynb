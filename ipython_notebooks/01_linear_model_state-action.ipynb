{
 "cells": [
  {
   "cell_type": "markdown",
   "metadata": {
    "nbpresent": {
     "id": "06d958c1-fe83-4be6-bc79-34afac910174"
    }
   },
   "source": [
    "### Confirming if a linear model could predict the reward/value function\n",
    "\n",
    "This notebook compares the raw feature selection from the state against the feature construction based on domain knowlegde"
   ]
  },
  {
   "cell_type": "code",
   "execution_count": 1,
   "metadata": {
    "collapsed": true,
    "nbpresent": {
     "id": "ca3e4596-6fc0-440a-9fa4-7826b09b9752"
    }
   },
   "outputs": [],
   "source": [
    "# the required imports\n",
    "import numpy as np\n",
    "import pandas as pd\n",
    "from linear_aproximation import Model\n",
    "from environment import network\n",
    "import matplotlib.pyplot as plt\n",
    "import re\n",
    "from sklearn.model_selection import train_test_split\n",
    "from sklearn import linear_model\n",
    "from sklearn.metrics import mean_squared_error, r2_score\n"
   ]
  },
  {
   "cell_type": "code",
   "execution_count": 2,
   "metadata": {
    "collapsed": true,
    "nbpresent": {
     "id": "5820eeb9-584a-4dea-832e-a4d965bfc8a7"
    }
   },
   "outputs": [],
   "source": [
    "path = '/Users/mawongh/OneDrive/REFERENCE FILE/D/Disertation/brainstorming/'\n",
    "dataset = pd.read_pickle(path + 'full_dataset.pickle')"
   ]
  },
  {
   "cell_type": "code",
   "execution_count": 3,
   "metadata": {
    "collapsed": false,
    "nbpresent": {
     "id": "99eda428-0f6c-4f54-a2a8-7b2a9be02335"
    }
   },
   "outputs": [
    {
     "data": {
      "text/html": [
       "<div>\n",
       "<style>\n",
       "    .dataframe thead tr:only-child th {\n",
       "        text-align: right;\n",
       "    }\n",
       "\n",
       "    .dataframe thead th {\n",
       "        text-align: left;\n",
       "    }\n",
       "\n",
       "    .dataframe tbody tr th {\n",
       "        vertical-align: top;\n",
       "    }\n",
       "</style>\n",
       "<table border=\"1\" class=\"dataframe\">\n",
       "  <thead>\n",
       "    <tr style=\"text-align: right;\">\n",
       "      <th></th>\n",
       "      <th>action</th>\n",
       "      <th>reward</th>\n",
       "      <th>s_next</th>\n",
       "      <th>state</th>\n",
       "    </tr>\n",
       "  </thead>\n",
       "  <tbody>\n",
       "    <tr>\n",
       "      <th>299475</th>\n",
       "      <td>121.0</td>\n",
       "      <td>-2.915486</td>\n",
       "      <td>[2733, 2733, 2733, 3200, 3200, 3200, 2500, 250...</td>\n",
       "      <td>[2733, 2733, 2733, 3200, 3200, 3200, 2500, 250...</td>\n",
       "    </tr>\n",
       "    <tr>\n",
       "      <th>299476</th>\n",
       "      <td>121.0</td>\n",
       "      <td>-3.054551</td>\n",
       "      <td>[2733, 2733, 2733, 3200, 3200, 3200, 2500, 250...</td>\n",
       "      <td>[2733, 2733, 2733, 3200, 3200, 3200, 2500, 250...</td>\n",
       "    </tr>\n",
       "    <tr>\n",
       "      <th>299477</th>\n",
       "      <td>121.0</td>\n",
       "      <td>-2.653020</td>\n",
       "      <td>[2733, 2733, 2733, 3200, 3200, 3200, 2500, 250...</td>\n",
       "      <td>[2733, 2733, 2733, 3200, 3200, 3200, 2500, 250...</td>\n",
       "    </tr>\n",
       "  </tbody>\n",
       "</table>\n",
       "</div>"
      ],
      "text/plain": [
       "        action    reward                                             s_next  \\\n",
       "299475   121.0 -2.915486  [2733, 2733, 2733, 3200, 3200, 3200, 2500, 250...   \n",
       "299476   121.0 -3.054551  [2733, 2733, 2733, 3200, 3200, 3200, 2500, 250...   \n",
       "299477   121.0 -2.653020  [2733, 2733, 2733, 3200, 3200, 3200, 2500, 250...   \n",
       "\n",
       "                                                    state  \n",
       "299475  [2733, 2733, 2733, 3200, 3200, 3200, 2500, 250...  \n",
       "299476  [2733, 2733, 2733, 3200, 3200, 3200, 2500, 250...  \n",
       "299477  [2733, 2733, 2733, 3200, 3200, 3200, 2500, 250...  "
      ]
     },
     "execution_count": 3,
     "metadata": {},
     "output_type": "execute_result"
    }
   ],
   "source": [
    "dataset.tail(3)"
   ]
  },
  {
   "cell_type": "code",
   "execution_count": 4,
   "metadata": {
    "collapsed": true,
    "nbpresent": {
     "id": "2efbff34-478f-4015-b598-c966ebdbf8dc"
    }
   },
   "outputs": [],
   "source": [
    "np.random.seed(1898)\n",
    "N = len(dataset)\n",
    "sample_sizes = np.array([N * .25, N * .40, N * .50]).astype(int)\n",
    "sample_indexes = [np.random.choice(np.arange(N), size = sz, replace=False)\n",
    "                 for sz in sample_sizes]\n",
    "# np.random.choice(np.arange(10), size =5, replace=False)\n",
    "datasets = [dataset.iloc[idx] for idx in sample_indexes]"
   ]
  },
  {
   "cell_type": "code",
   "execution_count": 5,
   "metadata": {
    "collapsed": false,
    "nbpresent": {
     "id": "81158516-5eaf-4212-9dc9-693181a595f7"
    }
   },
   "outputs": [
    {
     "data": {
      "text/html": [
       "<div>\n",
       "<style>\n",
       "    .dataframe thead tr:only-child th {\n",
       "        text-align: right;\n",
       "    }\n",
       "\n",
       "    .dataframe thead th {\n",
       "        text-align: left;\n",
       "    }\n",
       "\n",
       "    .dataframe tbody tr th {\n",
       "        vertical-align: top;\n",
       "    }\n",
       "</style>\n",
       "<table border=\"1\" class=\"dataframe\">\n",
       "  <thead>\n",
       "    <tr style=\"text-align: right;\">\n",
       "      <th></th>\n",
       "      <th>action</th>\n",
       "      <th>reward</th>\n",
       "      <th>s_next</th>\n",
       "      <th>state</th>\n",
       "    </tr>\n",
       "  </thead>\n",
       "  <tbody>\n",
       "    <tr>\n",
       "      <th>246994</th>\n",
       "      <td>53.0</td>\n",
       "      <td>-1.321689</td>\n",
       "      <td>[2733, 2733, 2733, 3200, 3200, 3200, 2500, 250...</td>\n",
       "      <td>[2733, 2733, 2733, 3200, 3200, 3200, 2500, 250...</td>\n",
       "    </tr>\n",
       "    <tr>\n",
       "      <th>158948</th>\n",
       "      <td>48.0</td>\n",
       "      <td>-3.312138</td>\n",
       "      <td>[2733, 2733, 2733, 3200, 3200, 3200, 2500, 250...</td>\n",
       "      <td>[2733, 2733, 2733, 3200, 3200, 3200, 2500, 250...</td>\n",
       "    </tr>\n",
       "    <tr>\n",
       "      <th>94346</th>\n",
       "      <td>121.0</td>\n",
       "      <td>1.044724</td>\n",
       "      <td>[2733, 2733, 2733, 3200, 3200, 3200, 2500, 250...</td>\n",
       "      <td>[2733, 2733, 2733, 3200, 3200, 3200, 2500, 250...</td>\n",
       "    </tr>\n",
       "    <tr>\n",
       "      <th>163292</th>\n",
       "      <td>74.0</td>\n",
       "      <td>-3.693729</td>\n",
       "      <td>[2733, 2733, 2733, 3200, 3200, 3200, 2500, 250...</td>\n",
       "      <td>[2733, 2733, 2733, 3200, 3200, 3200, 2500, 250...</td>\n",
       "    </tr>\n",
       "    <tr>\n",
       "      <th>95459</th>\n",
       "      <td>70.0</td>\n",
       "      <td>-6.609052</td>\n",
       "      <td>[2733, 2733, 2733, 3200, 3200, 3200, 2500, 250...</td>\n",
       "      <td>[2733, 2733, 2733, 3200, 3200, 3200, 2500, 250...</td>\n",
       "    </tr>\n",
       "  </tbody>\n",
       "</table>\n",
       "</div>"
      ],
      "text/plain": [
       "        action    reward                                             s_next  \\\n",
       "246994    53.0 -1.321689  [2733, 2733, 2733, 3200, 3200, 3200, 2500, 250...   \n",
       "158948    48.0 -3.312138  [2733, 2733, 2733, 3200, 3200, 3200, 2500, 250...   \n",
       "94346    121.0  1.044724  [2733, 2733, 2733, 3200, 3200, 3200, 2500, 250...   \n",
       "163292    74.0 -3.693729  [2733, 2733, 2733, 3200, 3200, 3200, 2500, 250...   \n",
       "95459     70.0 -6.609052  [2733, 2733, 2733, 3200, 3200, 3200, 2500, 250...   \n",
       "\n",
       "                                                    state  \n",
       "246994  [2733, 2733, 2733, 3200, 3200, 3200, 2500, 250...  \n",
       "158948  [2733, 2733, 2733, 3200, 3200, 3200, 2500, 250...  \n",
       "94346   [2733, 2733, 2733, 3200, 3200, 3200, 2500, 250...  \n",
       "163292  [2733, 2733, 2733, 3200, 3200, 3200, 2500, 250...  \n",
       "95459   [2733, 2733, 2733, 3200, 3200, 3200, 2500, 250...  "
      ]
     },
     "execution_count": 5,
     "metadata": {},
     "output_type": "execute_result"
    }
   ],
   "source": [
    "datasets[2].head()"
   ]
  },
  {
   "cell_type": "code",
   "execution_count": 10,
   "metadata": {
    "collapsed": false,
    "nbpresent": {
     "id": "6a41f19b-59cc-4e97-ab6c-3b1ce4003c24"
    }
   },
   "outputs": [
    {
     "data": {
      "text/plain": [
       "119791"
      ]
     },
     "execution_count": 10,
     "metadata": {},
     "output_type": "execute_result"
    }
   ],
   "source": [
    "len(y)"
   ]
  },
  {
   "cell_type": "code",
   "execution_count": 12,
   "metadata": {
    "collapsed": false,
    "nbpresent": {
     "id": "49b736a2-3e89-4294-ae56-195bfa47dbcb"
    }
   },
   "outputs": [
    {
     "data": {
      "image/png": "[encoded data removed]",
      "text/plain": [
       "<matplotlib.figure.Figure at 0x114c6ff60>"
      ]
     },
     "metadata": {},
     "output_type": "display_data"
    },
    {
     "name": "stdout",
     "output_type": "stream",
     "text": [
      "datasize: 149739\n",
      "train set MSE: 7.284120294704871\n",
      "test set MSE: 5.964660886626055\n"
     ]
    }
   ],
   "source": [
    "# baseline model 1 - global average\n",
    "ds_idx = 2\n",
    "# feature selection, only the rewards\n",
    "y = datasets[ds_idx].reward.values\n",
    "\n",
    "#splitting dataset into train/test\n",
    "y_train, y_test = train_test_split(y, test_size=0.15, random_state=42)\n",
    "\n",
    "#training the model\n",
    "\n",
    "global_average = np.mean(y_train)\n",
    "\n",
    "#predicting\n",
    "y_hat = np.repeat(global_average, len(y_test))\n",
    "x = np.arange(len(y_test))\n",
    "\n",
    "plt.plot(x, y_test)\n",
    "plt.plot(x, y_hat)\n",
    "plt.show()\n",
    "\n",
    "\n",
    "print('datasize: {}'.format(len(datasets[ds_idx])))\n",
    "\n",
    "y_train_hat = np.repeat(global_average, len(y_train))\n",
    "train_MSE = mean_squared_error(y_train, y_train_hat)\n",
    "print('train set MSE: {}'.format(train_MSE))\n",
    "\n",
    "test_MSE = mean_squared_error(y_test, y_hat)\n",
    "print('test set MSE: {}'.format(test_MSE))"
   ]
  },
  {
   "cell_type": "code",
   "execution_count": 13,
   "metadata": {
    "collapsed": false,
    "nbpresent": {
     "id": "af06bf71-9e7e-4bef-92ab-d92534138e2f"
    }
   },
   "outputs": [
    {
     "name": "stdout",
     "output_type": "stream",
     "text": [
      "fitting model 2, based on actions...\n",
      "SGDRegressor(alpha=0.001, average=False, epsilon=0.1, eta0=0.01,\n",
      "       fit_intercept=True, l1_ratio=0.15, learning_rate='invscaling',\n",
      "       loss='squared_loss', n_iter=50, penalty='l2', power_t=0.25,\n",
      "       random_state=None, shuffle=True, verbose=0, warm_start=False)\n"
     ]
    },
    {
     "data": {
      "image/png": "[encoded data removed]",
      "text/plain": [
       "<matplotlib.figure.Figure at 0x123467588>"
      ]
     },
     "metadata": {},
     "output_type": "display_data"
    },
    {
     "name": "stdout",
     "output_type": "stream",
     "text": [
      "datasize: 149739\n",
      "train set MSE: 7.142724889920466\n",
      "test set MSE: 5.84253885387026\n"
     ]
    }
   ],
   "source": [
    "# baseline model 2 - based on actions\n",
    "# ds_idx =2\n",
    "\n",
    "from sklearn.preprocessing import OneHotEncoder\n",
    "enc = OneHotEncoder(sparse=False)\n",
    "\n",
    "X = enc.fit_transform(datasets[ds_idx].action.values.reshape(-1,1))\n",
    "# X = np.array([model.sa2x_v1(datasets[idx].state[i], int(datasets[idx].action[i])) \n",
    "#               for i in datasets[idx].index])\n",
    "y = datasets[ds_idx].reward.values\n",
    "\n",
    "# gets the training and test sets\n",
    "X_train, X_test, y_train, y_test = train_test_split(\n",
    "                                    X, y, test_size=0.15, random_state=42)\n",
    "\n",
    "reg = linear_model.SGDRegressor(alpha = 0.001, n_iter = 50)\n",
    "print('fitting model 2, based on actions...')\n",
    "print(reg)\n",
    "reg.fit(X_train, y_train)\n",
    "# print(reg.coef_)\n",
    "\n",
    "# Do the prediction and calculate the performance (MSE) for model 1\n",
    "# Xtest_transformed = scaler.transform(X_test)\n",
    "# x = np.arange(len(Xtest_transformed))\n",
    "x = np.arange(len(X_test))\n",
    "y_hat = reg.predict(X_test)\n",
    "plt.plot(x, y_test)\n",
    "plt.plot(x, y_hat)\n",
    "plt.show()\n",
    "\n",
    "print('datasize: {}'.format(len(datasets[ds_idx])))\n",
    "y_train_hat = reg.predict(X_train)\n",
    "train_MSE = mean_squared_error(y_train, y_train_hat)\n",
    "print('train set MSE: {}'.format(train_MSE))\n",
    "\n",
    "test_MSE = mean_squared_error(y_test, y_hat)\n",
    "print('test set MSE: {}'.format(test_MSE))"
   ]
  },
  {
   "cell_type": "code",
   "execution_count": 14,
   "metadata": {
    "collapsed": false,
    "nbpresent": {
     "id": "8b5afe23-2a75-4e18-a397-6e0d11990189"
    }
   },
   "outputs": [
    {
     "name": "stdout",
     "output_type": "stream",
     "text": [
      "Constructing the features....\n",
      "fitting model 3...\n",
      "SGDRegressor(alpha=0.001, average=False, epsilon=0.1, eta0=0.01,\n",
      "       fit_intercept=True, l1_ratio=0.15, learning_rate='invscaling',\n",
      "       loss='squared_loss', n_iter=50, penalty='l2', power_t=0.25,\n",
      "       random_state=None, shuffle=True, verbose=0, warm_start=False)\n"
     ]
    },
    {
     "data": {
      "image/png": "[encoded data removed]",
      "text/plain": [
       "<matplotlib.figure.Figure at 0x114b285f8>"
      ]
     },
     "metadata": {},
     "output_type": "display_data"
    },
    {
     "name": "stdout",
     "output_type": "stream",
     "text": [
      "datasize: 149739\n",
      "train set MSE: 3.31100900768743\n",
      "test set MSE: 2.425435416183704\n"
     ]
    }
   ],
   "source": [
    "# model 3 - full linear model with domain knowledge inclusion\n",
    "\n",
    "# ds_idx =2\n",
    "# # Instantiate the model that includes the state to features implementation of the function\n",
    "model = Model()\n",
    "\n",
    "print('Constructing the features....')\n",
    "X = np.array([model.sa2x_v1(datasets[ds_idx].state[i], int(datasets[ds_idx].action[i])) \n",
    "              for i in datasets[ds_idx].index])\n",
    "y = datasets[ds_idx].reward.values\n",
    "\n",
    "# gets the training and test sets\n",
    "X_train, X_test, y_train, y_test = train_test_split(\n",
    "                                    X, y, test_size=0.15, random_state=42)\n",
    "\n",
    "# the linear model\n",
    "reg = linear_model.SGDRegressor(alpha = 0.001, n_iter = 50)\n",
    "print('fitting model 3...')\n",
    "print(reg)\n",
    "reg.fit(X_train, y_train)\n",
    "# print(reg.coef_)\n",
    "\n",
    "# Do the prediction and calculate the performance (MSE) for model 1\n",
    "# Xtest_transformed = scaler.transform(X_test)\n",
    "# x = np.arange(len(Xtest_transformed))\n",
    "x = np.arange(len(X_test))\n",
    "y_hat = reg.predict(X_test)\n",
    "plt.plot(x, y_test)\n",
    "plt.plot(x, y_hat)\n",
    "plt.show()\n",
    "\n",
    "print('datasize: {}'.format(len(datasets[ds_idx])))\n",
    "y_train_hat = reg.predict(X_train)\n",
    "train_MSE = mean_squared_error(y_train, y_train_hat)\n",
    "print('train set MSE: {}'.format(train_MSE))\n",
    "\n",
    "test_MSE = mean_squared_error(y_test, y_hat)\n",
    "print('test set MSE: {}'.format(test_MSE))\n"
   ]
  },
  {
   "cell_type": "code",
   "execution_count": null,
   "metadata": {
    "collapsed": true,
    "nbpresent": {
     "id": "232a88b4-9049-4f00-b210-011ccf0be69a"
    }
   },
   "outputs": [],
   "source": [
    "# plt.plot(dataset.index, dataset['01_step'])\n",
    "# plt.show()\n",
    "# plt.plot(dataset.index, dataset.reward)\n",
    "# plt.show()"
   ]
  },
  {
   "cell_type": "code",
   "execution_count": null,
   "metadata": {
    "collapsed": true,
    "nbpresent": {
     "id": "90f9dcf5-7f50-4cab-b39d-632172fddef1"
    }
   },
   "outputs": [],
   "source": [
    "# # Applying the function to the state and adding the location\n",
    "# state = [transform(s) for s in dataset.state]\n",
    "# raw_state = np.array([np.append(loc, s) for s in state])"
   ]
  },
  {
   "cell_type": "code",
   "execution_count": null,
   "metadata": {
    "collapsed": true,
    "nbpresent": {
     "id": "05a8c5af-a2c7-4a07-83e5-d09082aa81f5"
    }
   },
   "outputs": [],
   "source": [
    "# # Instantiate the model that includes the state to features implementation of the function\n",
    "model = Model()\n",
    "\n",
    "# print(type(raw_state))\n",
    "# print(type(dataset_sub1.action.values))\n",
    "# i = 500\n",
    "# X = model.sa2x_v1(raw_state[20], int(dataset_sub1.action[20]))\n",
    "# print(X)\n",
    "# # contructs the features and creates the X (features vectors) and the y (target)\n",
    "# # Xraw = raw_state.copy()\n",
    "idx = 0\n",
    "\n",
    "X = np.array([model.sa2x_v1(datasets[idx].state[i], int(datasets[idx].action[i])) \n",
    "              for i in datasets[idx].index])\n",
    "y = datasets[idx].reward.values\n",
    "\n",
    "# s = [[1,2], [3,4], [5,6]]\n",
    "# a = 0,15,45\n",
    "# for i,j in zip(s,a):\n",
    "#     print(i,j)"
   ]
  },
  {
   "cell_type": "code",
   "execution_count": null,
   "metadata": {
    "collapsed": true,
    "nbpresent": {
     "id": "4a69d73e-415f-4b59-a44c-06c707768924"
    }
   },
   "outputs": [],
   "source": [
    "# gets the training and test sets\n",
    "X_train, X_test, y_train, y_test = train_test_split(\n",
    "                                    X, y, test_size=0.15, random_state=42)\n",
    "\n",
    "# Xraw_train, Xraw_test, yraw_train, yraw_test = train_test_split(\n",
    "#                                     Xraw, y, test_size=0.10, random_state=42)"
   ]
  },
  {
   "cell_type": "code",
   "execution_count": null,
   "metadata": {
    "collapsed": true,
    "nbpresent": {
     "id": "2d394ee3-7417-4567-9089-0397683026c9"
    }
   },
   "outputs": [],
   "source": [
    "# baseline model 1 - global average\n",
    "global_average = np.mean(y_train)\n",
    "y_hat = np.repeat(global_average, len(y_test))\n",
    "x = np.arange(len(X_test))\n",
    "\n",
    "plt.plot(x, y_test)\n",
    "plt.plot(x, y_hat)\n",
    "plt.show()\n",
    "\n",
    "y_train_hat = np.repeat(global_average, len(y_train))\n",
    "train_MSE = mean_squared_error(y_train, y_train_hat)\n",
    "print('train set MSE: {}'.format(train_MSE))\n",
    "\n",
    "test_MSE = mean_squared_error(y_test, y_hat)\n",
    "print('test set MSE: {}'.format(test_MSE))"
   ]
  },
  {
   "cell_type": "code",
   "execution_count": null,
   "metadata": {
    "collapsed": true,
    "nbpresent": {
     "id": "7341e19f-6e9c-4087-9f1e-84dcb6676fc6"
    }
   },
   "outputs": [],
   "source": [
    "# baseline 2 - average based on actions\n",
    "df = datasets[0].groupby('action')\n",
    "df2 = df.agg({'reward':'mean'})\n",
    "# df2.reward[125]\n",
    "\n"
   ]
  },
  {
   "cell_type": "code",
   "execution_count": null,
   "metadata": {
    "collapsed": true,
    "nbpresent": {
     "id": "eea93b3e-68ee-429f-8fa6-fda6ca92c9d2"
    }
   },
   "outputs": [],
   "source": [
    "len(X_train)"
   ]
  },
  {
   "cell_type": "code",
   "execution_count": null,
   "metadata": {
    "collapsed": true,
    "nbpresent": {
     "id": "ed793b16-9414-413b-b9c3-b540a48466f8"
    }
   },
   "outputs": [],
   "source": []
  },
  {
   "cell_type": "code",
   "execution_count": null,
   "metadata": {
    "collapsed": true,
    "nbpresent": {
     "id": "c270e6be-ad6b-43ce-8f54-49521344ef97"
    }
   },
   "outputs": [],
   "source": []
  },
  {
   "cell_type": "code",
   "execution_count": null,
   "metadata": {
    "collapsed": true,
    "nbpresent": {
     "id": "c42b95c6-087e-43ee-8105-666f5857a1e5"
    }
   },
   "outputs": [],
   "source": []
  },
  {
   "cell_type": "code",
   "execution_count": null,
   "metadata": {
    "collapsed": true,
    "nbpresent": {
     "id": "cabd84a8-61d7-447d-8558-52a4829eff0d"
    }
   },
   "outputs": [],
   "source": [
    "reg = linear_model.SGDRegressor(alpha = 0.001, n_iter = 50)\n",
    "print('fitting model 1B...')\n",
    "print(reg)\n",
    "reg.fit(X_train, y_train)\n",
    "# print(reg.coef_)\n",
    "\n",
    "# Do the prediction and calculate the performance (MSE) for model 1\n",
    "# Xtest_transformed = scaler.transform(X_test)\n",
    "# x = np.arange(len(Xtest_transformed))\n",
    "x = np.arange(len(X_test))\n",
    "y_hat = reg.predict(X_test)\n",
    "plt.plot(x, y_test)\n",
    "plt.plot(x, y_hat)\n",
    "plt.show()\n",
    "\n",
    "y_train_hat = reg.predict(X_train)\n",
    "train_MSE = mean_squared_error(y_train, y_train_hat)\n",
    "print('train set MSE: {}'.format(train_MSE))\n",
    "\n",
    "test_MSE = mean_squared_error(y_test, y_hat)\n",
    "print('test set MSE: {}'.format(test_MSE))"
   ]
  },
  {
   "cell_type": "code",
   "execution_count": null,
   "metadata": {
    "collapsed": true,
    "nbpresent": {
     "id": "2aabc0be-b957-4134-8a2b-150e33a4f6c8"
    }
   },
   "outputs": [],
   "source": [
    "# Do the prediction and calculate the performance (MSE) for model 1\n",
    "print('Model with the raw state vector')\n",
    "x = np.arange(len(Xraw_test))\n",
    "yraw_hat = regraw.predict(Xraw_test)\n",
    "plt.plot(x, yraw_test)\n",
    "plt.plot(x, yraw_hat)\n",
    "plt.show()\n",
    "\n",
    "test_MSE = mean_squared_error(yraw_test, yraw_hat)\n",
    "print('test set MSE: {}'.format(test_MSE))\n",
    "\n",
    "yraw_train_hat = regraw.predict(Xraw_train)\n",
    "train_MSE = mean_squared_error(yraw_train, yraw_train_hat)\n",
    "print('train set MSE: {}'.format(train_MSE))"
   ]
  },
  {
   "cell_type": "code",
   "execution_count": 17,
   "metadata": {
    "collapsed": true,
    "nbpresent": {
     "id": "0ec2c855-e978-48cb-9761-d3f3fb1b02cb"
    }
   },
   "outputs": [],
   "source": [
    "comp = pd.read_csv(path + 'linear_model_comparison.csv')"
   ]
  },
  {
   "cell_type": "code",
   "execution_count": 18,
   "metadata": {
    "collapsed": false,
    "nbpresent": {
     "id": "5f7cb651-f788-4d5f-bc99-2a3e3023ef10"
    }
   },
   "outputs": [
    {
     "data": {
      "text/html": [
       "<div>\n",
       "<style>\n",
       "    .dataframe thead tr:only-child th {\n",
       "        text-align: right;\n",
       "    }\n",
       "\n",
       "    .dataframe thead th {\n",
       "        text-align: left;\n",
       "    }\n",
       "\n",
       "    .dataframe tbody tr th {\n",
       "        vertical-align: top;\n",
       "    }\n",
       "</style>\n",
       "<table border=\"1\" class=\"dataframe\">\n",
       "  <thead>\n",
       "    <tr style=\"text-align: right;\">\n",
       "      <th></th>\n",
       "      <th>algorithm</th>\n",
       "      <th>sample_size</th>\n",
       "      <th>75K</th>\n",
       "      <th>75K .1</th>\n",
       "      <th>75K .2</th>\n",
       "      <th>75K .3</th>\n",
       "      <th>120K</th>\n",
       "      <th>120K .1</th>\n",
       "      <th>120K .2</th>\n",
       "      <th>120K .3</th>\n",
       "      <th>150K</th>\n",
       "      <th>150K .1</th>\n",
       "      <th>150K .2</th>\n",
       "      <th>150K .3</th>\n",
       "    </tr>\n",
       "  </thead>\n",
       "  <tbody>\n",
       "    <tr>\n",
       "      <th>0</th>\n",
       "      <td>baseline 1</td>\n",
       "      <td>Train MSE</td>\n",
       "      <td>9.180</td>\n",
       "      <td>7.074</td>\n",
       "      <td>8.208950</td>\n",
       "      <td>8.905490</td>\n",
       "      <td>7.750</td>\n",
       "      <td>8.602</td>\n",
       "      <td>7.555</td>\n",
       "      <td>8.700</td>\n",
       "      <td>8.439</td>\n",
       "      <td>7.752300</td>\n",
       "      <td>8.651490</td>\n",
       "      <td>7.284120</td>\n",
       "    </tr>\n",
       "    <tr>\n",
       "      <th>1</th>\n",
       "      <td>baseline 1</td>\n",
       "      <td>Test MSE</td>\n",
       "      <td>6.670</td>\n",
       "      <td>6.014</td>\n",
       "      <td>6.223136</td>\n",
       "      <td>6.192756</td>\n",
       "      <td>6.004</td>\n",
       "      <td>5.918</td>\n",
       "      <td>7.359</td>\n",
       "      <td>11.972</td>\n",
       "      <td>8.583</td>\n",
       "      <td>6.925600</td>\n",
       "      <td>8.679630</td>\n",
       "      <td>5.964661</td>\n",
       "    </tr>\n",
       "    <tr>\n",
       "      <th>2</th>\n",
       "      <td>baseline 2</td>\n",
       "      <td>Train MSE</td>\n",
       "      <td>9.040</td>\n",
       "      <td>6.935</td>\n",
       "      <td>8.071200</td>\n",
       "      <td>8.763782</td>\n",
       "      <td>7.600</td>\n",
       "      <td>8.463</td>\n",
       "      <td>7.431</td>\n",
       "      <td>8.561</td>\n",
       "      <td>8.308</td>\n",
       "      <td>7.622000</td>\n",
       "      <td>8.515600</td>\n",
       "      <td>7.142725</td>\n",
       "    </tr>\n",
       "    <tr>\n",
       "      <th>3</th>\n",
       "      <td>baseline 2</td>\n",
       "      <td>Test MSE</td>\n",
       "      <td>6.570</td>\n",
       "      <td>5.902</td>\n",
       "      <td>6.093730</td>\n",
       "      <td>6.078754</td>\n",
       "      <td>5.870</td>\n",
       "      <td>5.795</td>\n",
       "      <td>7.216</td>\n",
       "      <td>11.856</td>\n",
       "      <td>8.465</td>\n",
       "      <td>6.790610</td>\n",
       "      <td>8.601821</td>\n",
       "      <td>5.842539</td>\n",
       "    </tr>\n",
       "    <tr>\n",
       "      <th>4</th>\n",
       "      <td>linear model</td>\n",
       "      <td>Train MSE</td>\n",
       "      <td>4.795</td>\n",
       "      <td>2.952</td>\n",
       "      <td>4.005590</td>\n",
       "      <td>4.665064</td>\n",
       "      <td>3.706</td>\n",
       "      <td>4.469</td>\n",
       "      <td>3.525</td>\n",
       "      <td>4.670</td>\n",
       "      <td>4.488</td>\n",
       "      <td>3.797240</td>\n",
       "      <td>4.631140</td>\n",
       "      <td>3.311009</td>\n",
       "    </tr>\n",
       "    <tr>\n",
       "      <th>5</th>\n",
       "      <td>linear model</td>\n",
       "      <td>Test MSE</td>\n",
       "      <td>3.492</td>\n",
       "      <td>2.550</td>\n",
       "      <td>2.845814</td>\n",
       "      <td>2.803768</td>\n",
       "      <td>2.390</td>\n",
       "      <td>2.497</td>\n",
       "      <td>3.947</td>\n",
       "      <td>8.498</td>\n",
       "      <td>4.974</td>\n",
       "      <td>3.339766</td>\n",
       "      <td>5.290519</td>\n",
       "      <td>2.425435</td>\n",
       "    </tr>\n",
       "  </tbody>\n",
       "</table>\n",
       "</div>"
      ],
      "text/plain": [
       "      algorithm sample_size   75K    75K .1    75K .2    75K .3   120K   \\\n",
       "0    baseline 1   Train MSE  9.180    7.074  8.208950  8.905490   7.750   \n",
       "1    baseline 1    Test MSE  6.670    6.014  6.223136  6.192756   6.004   \n",
       "2    baseline 2   Train MSE  9.040    6.935  8.071200  8.763782   7.600   \n",
       "3    baseline 2    Test MSE  6.570    5.902  6.093730  6.078754   5.870   \n",
       "4  linear model   Train MSE  4.795    2.952  4.005590  4.665064   3.706   \n",
       "5  linear model    Test MSE  3.492    2.550  2.845814  2.803768   2.390   \n",
       "\n",
       "    120K .1   120K .2   120K .3   150K    150K .1   150K .2   150K .3  \n",
       "0     8.602     7.555     8.700   8.439  7.752300  8.651490  7.284120  \n",
       "1     5.918     7.359    11.972   8.583  6.925600  8.679630  5.964661  \n",
       "2     8.463     7.431     8.561   8.308  7.622000  8.515600  7.142725  \n",
       "3     5.795     7.216    11.856   8.465  6.790610  8.601821  5.842539  \n",
       "4     4.469     3.525     4.670   4.488  3.797240  4.631140  3.311009  \n",
       "5     2.497     3.947     8.498   4.974  3.339766  5.290519  2.425435  "
      ]
     },
     "execution_count": 18,
     "metadata": {},
     "output_type": "execute_result"
    }
   ],
   "source": [
    "comp"
   ]
  },
  {
   "cell_type": "code",
   "execution_count": 48,
   "metadata": {
    "collapsed": true,
    "nbpresent": {
     "id": "61f396de-df30-48ac-a03b-1d12df6b6af5"
    }
   },
   "outputs": [],
   "source": [
    "import seaborn as sns"
   ]
  },
  {
   "cell_type": "code",
   "execution_count": 49,
   "metadata": {
    "collapsed": false,
    "nbpresent": {
     "id": "8d635e75-4819-49ef-942d-5701b48ad82c"
    }
   },
   "outputs": [
    {
     "data": {
      "text/html": [
       "<div>\n",
       "<style>\n",
       "    .dataframe thead tr:only-child th {\n",
       "        text-align: right;\n",
       "    }\n",
       "\n",
       "    .dataframe thead th {\n",
       "        text-align: left;\n",
       "    }\n",
       "\n",
       "    .dataframe tbody tr th {\n",
       "        vertical-align: top;\n",
       "    }\n",
       "</style>\n",
       "<table border=\"1\" class=\"dataframe\">\n",
       "  <thead>\n",
       "    <tr style=\"text-align: right;\">\n",
       "      <th></th>\n",
       "      <th>algorithm</th>\n",
       "      <th>sample_size</th>\n",
       "      <th>variable</th>\n",
       "      <th>mse</th>\n",
       "      <th>datasample_sz</th>\n",
       "    </tr>\n",
       "  </thead>\n",
       "  <tbody>\n",
       "    <tr>\n",
       "      <th>0</th>\n",
       "      <td>baseline 1</td>\n",
       "      <td>Train MSE</td>\n",
       "      <td>75K</td>\n",
       "      <td>9.180</td>\n",
       "      <td>75K</td>\n",
       "    </tr>\n",
       "    <tr>\n",
       "      <th>1</th>\n",
       "      <td>baseline 1</td>\n",
       "      <td>Test MSE</td>\n",
       "      <td>75K</td>\n",
       "      <td>6.670</td>\n",
       "      <td>75K</td>\n",
       "    </tr>\n",
       "    <tr>\n",
       "      <th>2</th>\n",
       "      <td>baseline 2</td>\n",
       "      <td>Train MSE</td>\n",
       "      <td>75K</td>\n",
       "      <td>9.040</td>\n",
       "      <td>75K</td>\n",
       "    </tr>\n",
       "    <tr>\n",
       "      <th>3</th>\n",
       "      <td>baseline 2</td>\n",
       "      <td>Test MSE</td>\n",
       "      <td>75K</td>\n",
       "      <td>6.570</td>\n",
       "      <td>75K</td>\n",
       "    </tr>\n",
       "    <tr>\n",
       "      <th>4</th>\n",
       "      <td>linear model</td>\n",
       "      <td>Train MSE</td>\n",
       "      <td>75K</td>\n",
       "      <td>4.795</td>\n",
       "      <td>75K</td>\n",
       "    </tr>\n",
       "  </tbody>\n",
       "</table>\n",
       "</div>"
      ],
      "text/plain": [
       "      algorithm sample_size variable    mse datasample_sz\n",
       "0    baseline 1   Train MSE     75K   9.180           75K\n",
       "1    baseline 1    Test MSE     75K   6.670           75K\n",
       "2    baseline 2   Train MSE     75K   9.040           75K\n",
       "3    baseline 2    Test MSE     75K   6.570           75K\n",
       "4  linear model   Train MSE     75K   4.795           75K"
      ]
     },
     "execution_count": 49,
     "metadata": {},
     "output_type": "execute_result"
    }
   ],
   "source": [
    "comp_2 = pd.melt(comp, id_vars=['algorithm', 'sample_size'], value_name='mse')\n",
    "# comp_2['datasample_sz'] = [lambda x:x.split('.')[0] for x in comp_2.variable]\n",
    "comp_2['datasample_sz'] = [val.split(' ')[1] for val in comp_2['variable'].values]\n",
    "comp_2.head()"
   ]
  },
  {
   "cell_type": "code",
   "execution_count": 50,
   "metadata": {
    "collapsed": false,
    "nbpresent": {
     "id": "18700e44-07f3-4314-bcd9-6fd4c5c14b87"
    }
   },
   "outputs": [
    {
     "data": {
      "image/png": "[encoded data removed]",
      "text/plain": [
       "<matplotlib.figure.Figure at 0x11552de48>"
      ]
     },
     "metadata": {},
     "output_type": "display_data"
    }
   ],
   "source": [
    "sns.boxplot(x=\"sample_size\", y=\"mse\", data=comp_2)\n",
    "plt.show()"
   ]
  },
  {
   "cell_type": "code",
   "execution_count": null,
   "metadata": {
    "collapsed": true,
    "nbpresent": {
     "id": "be625347-8e89-4fd3-babc-e6b83ce6fe80"
    }
   },
   "outputs": [],
   "source": []
  }
 ],
 "metadata": {
  "anaconda-cloud": {},
  "kernelspec": {
   "display_name": "Python [default]",
   "language": "python",
   "name": "python3"
  },
  "language_info": {
   "codemirror_mode": {
    "name": "ipython",
    "version": 3
   },
   "file_extension": ".py",
   "mimetype": "text/x-python",
   "name": "python",
   "nbconvert_exporter": "python",
   "pygments_lexer": "ipython3",
   "version": "3.5.2"
  }
 },
 "nbformat": 4,
 "nbformat_minor": 2
}
