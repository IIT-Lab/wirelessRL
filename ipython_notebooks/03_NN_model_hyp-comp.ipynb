{
 "cells": [
  {
   "cell_type": "markdown",
   "metadata": {},
   "source": [
    "### Obtaining the best perfoming hyperparameter for NN model of the environment\n",
    "This notebook compares the raw feature selection from the state against the feature construction based on domain knowlegde"
   ]
  },
  {
   "cell_type": "code",
   "execution_count": 1,
   "metadata": {},
   "outputs": [
    {
     "name": "stderr",
     "output_type": "stream",
     "text": [
      "Using TensorFlow backend.\n"
     ]
    }
   ],
   "source": [
    "# the required imports\n",
    "import numpy as np\n",
    "import pandas as pd\n",
    "# from linear_aproximation import Model\n",
    "# from environment import network\n",
    "import matplotlib.pyplot as plt\n",
    "import re\n",
    "from sklearn.model_selection import train_test_split\n",
    "from sklearn import linear_model\n",
    "from sklearn.metrics import mean_squared_error, r2_score\n",
    "\n",
    "# additional import for the Neural Network\n",
    "from keras.layers import Dense\n",
    "from keras.models import Sequential\n",
    "import tensorflow as tf"
   ]
  },
  {
   "cell_type": "code",
   "execution_count": 2,
   "metadata": {},
   "outputs": [
    {
     "data": {
      "text/html": [
       "<div>\n",
       "<style>\n",
       "    .dataframe thead tr:only-child th {\n",
       "        text-align: right;\n",
       "    }\n",
       "\n",
       "    .dataframe thead th {\n",
       "        text-align: left;\n",
       "    }\n",
       "\n",
       "    .dataframe tbody tr th {\n",
       "        vertical-align: top;\n",
       "    }\n",
       "</style>\n",
       "<table border=\"1\" class=\"dataframe\">\n",
       "  <thead>\n",
       "    <tr style=\"text-align: right;\">\n",
       "      <th></th>\n",
       "      <th>action</th>\n",
       "      <th>reward</th>\n",
       "      <th>s_next</th>\n",
       "      <th>state</th>\n",
       "    </tr>\n",
       "  </thead>\n",
       "  <tbody>\n",
       "    <tr>\n",
       "      <th>299475</th>\n",
       "      <td>121.0</td>\n",
       "      <td>-2.915486</td>\n",
       "      <td>[2733, 2733, 2733, 3200, 3200, 3200, 2500, 250...</td>\n",
       "      <td>[2733, 2733, 2733, 3200, 3200, 3200, 2500, 250...</td>\n",
       "    </tr>\n",
       "    <tr>\n",
       "      <th>299476</th>\n",
       "      <td>121.0</td>\n",
       "      <td>-3.054551</td>\n",
       "      <td>[2733, 2733, 2733, 3200, 3200, 3200, 2500, 250...</td>\n",
       "      <td>[2733, 2733, 2733, 3200, 3200, 3200, 2500, 250...</td>\n",
       "    </tr>\n",
       "    <tr>\n",
       "      <th>299477</th>\n",
       "      <td>121.0</td>\n",
       "      <td>-2.653020</td>\n",
       "      <td>[2733, 2733, 2733, 3200, 3200, 3200, 2500, 250...</td>\n",
       "      <td>[2733, 2733, 2733, 3200, 3200, 3200, 2500, 250...</td>\n",
       "    </tr>\n",
       "  </tbody>\n",
       "</table>\n",
       "</div>"
      ],
      "text/plain": [
       "        action    reward                                             s_next  \\\n",
       "299475   121.0 -2.915486  [2733, 2733, 2733, 3200, 3200, 3200, 2500, 250...   \n",
       "299476   121.0 -3.054551  [2733, 2733, 2733, 3200, 3200, 3200, 2500, 250...   \n",
       "299477   121.0 -2.653020  [2733, 2733, 2733, 3200, 3200, 3200, 2500, 250...   \n",
       "\n",
       "                                                    state  \n",
       "299475  [2733, 2733, 2733, 3200, 3200, 3200, 2500, 250...  \n",
       "299476  [2733, 2733, 2733, 3200, 3200, 3200, 2500, 250...  \n",
       "299477  [2733, 2733, 2733, 3200, 3200, 3200, 2500, 250...  "
      ]
     },
     "execution_count": 2,
     "metadata": {},
     "output_type": "execute_result"
    }
   ],
   "source": [
    "# path = '/Users/mawongh/OneDrive/REFERENCE FILE/D/Disertation/brainstorming/'\n",
    "path = '/home/mawongh/ws/datasets/'\n",
    "dataset = pd.read_pickle(path + 'full_dataset.pickle')\n",
    "dataset.tail(3)"
   ]
  },
  {
   "cell_type": "code",
   "execution_count": 3,
   "metadata": {
    "collapsed": true
   },
   "outputs": [],
   "source": [
    "np.random.seed(1973)\n",
    "N = len(dataset)\n",
    "sample_size = 75000\n",
    "sample_indexes = np.random.choice(np.arange(N), size = sample_size, replace=False)\n",
    "study_dataset = dataset.iloc[sample_indexes]\n",
    "\n",
    "S = np.array([x for x in study_dataset.state])\n",
    "a_r = study_dataset[['action', 'reward']].values\n"
   ]
  },
  {
   "cell_type": "code",
   "execution_count": 4,
   "metadata": {},
   "outputs": [
    {
     "name": "stderr",
     "output_type": "stream",
     "text": [
      "/home/mawongh/anaconda3/envs/rl/lib/python3.6/site-packages/sklearn/utils/validation.py:429: DataConversionWarning: Data with input dtype int64 was converted to float64 by StandardScaler.\n",
      "  warnings.warn(msg, _DataConversionWarning)\n"
     ]
    }
   ],
   "source": [
    "from sklearn.preprocessing import StandardScaler\n",
    "scaler = StandardScaler()\n",
    "\n",
    "\n",
    "S = scaler.fit_transform(S)  # Train the transformer object so it knows what means and variances to use"
   ]
  },
  {
   "cell_type": "code",
   "execution_count": null,
   "metadata": {
    "collapsed": true
   },
   "outputs": [],
   "source": [
    "n_models = 8\n",
    "\n",
    "from sklearn.model_selection import KFold\n",
    "\n",
    "kf = KFold(n_splits=n_models, random_state=42)\n",
    "\n",
    "S_train = []\n",
    "S_eval = []\n",
    "a_train = []\n",
    "a_eval = []\n",
    "r_train = []\n",
    "r_eval = []\n",
    "\n",
    "for train_index, eval_index in kf.split(S):\n",
    "    S_train.append(S[train_index])\n",
    "    S_eval.append(S[eval_index])\n",
    "    \n",
    "    a_r_train, a_r_eval = a_r[train_index], a_r[eval_index]\n",
    "    \n",
    "    a_train.append(a_r_train[:,0])\n",
    "    a_eval.append(a_r_eval[:,0])\n",
    "    \n",
    "    r_train.append(a_r_train[:,1])\n",
    "    r_eval.append(a_r_eval[:,1])\n",
    "# end for\n"
   ]
  },
  {
   "cell_type": "code",
   "execution_count": null,
   "metadata": {
    "collapsed": true
   },
   "outputs": [],
   "source": [
    "from keras import optimizers\n",
    "\n",
    "models = [Sequential() for i in np.arange(n_models)]\n",
    "n_cols = S.shape[1]\n",
    "\n",
    "# model 1\n",
    "models[0].add(Dense(200, activation = 'relu', input_shape=(n_cols,)))\n",
    "models[0].add(Dense(200, activation = 'relu'))\n",
    "models[0].add(Dense(126, activation = 'linear'))\n",
    "models[0].compile(optimizer=optimizers.Adam(), loss='mean_squared_error')\n",
    "\n",
    "# model 2\n",
    "models[1].add(Dense(400, activation = 'relu', input_shape=(n_cols,)))\n",
    "models[1].add(Dense(400, activation = 'relu'))\n",
    "models[1].add(Dense(126, activation = 'linear'))\n",
    "models[1].compile(optimizer=optimizers.Adam(), loss='mean_squared_error')\n",
    "\n",
    "# model 3\n",
    "models[2].add(Dense(200, activation = 'relu', input_shape=(n_cols,)))\n",
    "models[2].add(Dense(200, activation = 'relu'))\n",
    "models[2].add(Dense(126, activation = 'linear'))\n",
    "models[2].compile(optimizer=optimizers.RMSprop(), loss='mean_squared_error')\n",
    "\n",
    "# model 4\n",
    "models[3].add(Dense(400, activation = 'relu', input_shape=(n_cols,)))\n",
    "models[3].add(Dense(400, activation = 'relu'))\n",
    "models[3].add(Dense(126, activation = 'linear'))\n",
    "models[3].compile(optimizer=optimizers.RMSprop(), loss='mean_squared_error')\n",
    "\n",
    "# model 5\n",
    "models[4].add(Dense(200, activation = 'relu', input_shape=(n_cols,)))\n",
    "models[4].add(Dense(200, activation = 'relu'))\n",
    "models[4].add(Dense(200, activation = 'relu'))\n",
    "models[4].add(Dense(126, activation = 'linear'))\n",
    "models[4].compile(optimizer=optimizers.Adam(), loss='mean_squared_error')\n",
    "\n",
    "# model 6\n",
    "models[5].add(Dense(400, activation = 'relu', input_shape=(n_cols,)))\n",
    "models[5].add(Dense(400, activation = 'relu'))\n",
    "models[5].add(Dense(400, activation = 'relu'))\n",
    "models[5].add(Dense(126, activation = 'linear'))\n",
    "models[5].compile(optimizer=optimizers.Adam(), loss='mean_squared_error')\n",
    "\n",
    "# model 7\n",
    "models[6].add(Dense(200, activation = 'relu', input_shape=(n_cols,)))\n",
    "models[6].add(Dense(200, activation = 'relu'))\n",
    "models[6].add(Dense(200, activation = 'relu'))\n",
    "models[6].add(Dense(126, activation = 'linear'))\n",
    "models[6].compile(optimizer=optimizers.RMSprop(), loss='mean_squared_error')\n",
    "\n",
    "# model 8\n",
    "models[7].add(Dense(400, activation = 'relu', input_shape=(n_cols,)))\n",
    "models[7].add(Dense(400, activation = 'relu'))\n",
    "models[7].add(Dense(400, activation = 'relu'))\n",
    "models[7].add(Dense(126, activation = 'linear'))\n",
    "models[7].compile(optimizer=optimizers.RMSprop(), loss='mean_squared_error')"
   ]
  },
  {
   "cell_type": "code",
   "execution_count": null,
   "metadata": {},
   "outputs": [],
   "source": [
    "def train_model(model_number, num_epochs = 20):\n",
    "    for epoch in np.arange(num_epochs):\n",
    "        print('model: {}, epoch: {}'.format(model_number + 1, epoch))\n",
    "        for step in np.arange(len(S_train[model_number])):\n",
    "            s = S_train[model_number][step].reshape(1,-1)\n",
    "            r = models[model_number].predict_on_batch(s)\n",
    "            r[0,int(a_train[model_number][step])] = r_train[model_number][step]\n",
    "            models[model_number].train_on_batch(s,r)\n",
    "\n",
    "for m in np.arange(n_models):\n",
    "    train_model(model_number = m, num_epochs = 20)"
   ]
  },
  {
   "cell_type": "code",
   "execution_count": null,
   "metadata": {},
   "outputs": [],
   "source": [
    "\n",
    "for m in np.arange(n_models):\n",
    "    y_pred = models[m].predict(S_eval[m])\n",
    "\n",
    "    r_hat = np.array([y_pred[i,int(a_eval[m][i])] for i in np.arange(len(S_eval[m]))])\n",
    "    \n",
    "    eval_MSE = mean_squared_error(r_eval[m], r_hat)\n",
    "    print('model: {}, eval MSE: {}'.format(m,eval_MSE))\n"
   ]
  },
  {
   "cell_type": "code",
   "execution_count": null,
   "metadata": {},
   "outputs": [],
   "source": [
    "\n",
    "for m in np.arange(n_models):\n",
    "    y_pred = models[m].predict(S_train[m])\n",
    "\n",
    "    r_hat = np.array([y_pred[i,int(a_train[m][i])] for i in np.arange(len(S_train[m]))])\n",
    "    \n",
    "    train_MSE = mean_squared_error(r_train[m], r_hat)\n",
    "    print('model: {}, train MSE: {}'.format(m,train_MSE))"
   ]
  },
  {
   "cell_type": "code",
   "execution_count": null,
   "metadata": {},
   "outputs": [],
   "source": [
    "x = np.arange(len(S_test))\n",
    "plt.plot(x, r_test)\n",
    "plt.plot(x, r_hat)\n",
    "plt.show()\n",
    "\n",
    "train_MSE = mean_squared_error(r_train, r_train_hat)\n",
    "print('train set MSE: {}'.format(train_MSE))\n",
    "\n",
    "\n",
    "test_MSE = mean_squared_error(r_test, r_hat)\n",
    "print('test set MSE: {}'.format(test_MSE))"
   ]
  },
  {
   "cell_type": "code",
   "execution_count": null,
   "metadata": {
    "collapsed": true
   },
   "outputs": [],
   "source": []
  },
  {
   "cell_type": "code",
   "execution_count": null,
   "metadata": {
    "collapsed": true
   },
   "outputs": [],
   "source": []
  },
  {
   "cell_type": "code",
   "execution_count": null,
   "metadata": {
    "collapsed": true
   },
   "outputs": [],
   "source": [
    "n_cols = S_train.shape[1]\n",
    "model = Sequential()\n",
    "# input layer\n",
    "model.add(Dense(200, activation = 'relu', input_shape=(n_cols,)))\n",
    "# second layer hidden\n",
    "model.add(Dense(200, activation = 'relu'))\n",
    "# output layer\n",
    "model.add(Dense(126, activation = 'linear'))\n",
    "# compiles the model\n",
    "model.compile(optimizer='sgd', loss='mean_squared_error')\n",
    "\n",
    "# print(model)\n",
    "\n",
    "# train the neural network\n",
    "# model.fit(Xraw_train, yraw_train, epochs = 10)\n",
    "\n",
    "# # instantiate linear regression models and fits them\n",
    "# reg = linear_model.LinearRegression()\n",
    "# print('fitting model 1...')\n",
    "# reg.fit(X_train, y_train)"
   ]
  },
  {
   "cell_type": "code",
   "execution_count": null,
   "metadata": {},
   "outputs": [],
   "source": [
    "s = S_train[0].reshape(1, -1)\n",
    "q = model.predict_on_batch(s)\n",
    "q[0,int(A_test[0])] = y_test[0]\n",
    "model.train_on_batch(s, q)"
   ]
  },
  {
   "cell_type": "code",
   "execution_count": null,
   "metadata": {},
   "outputs": [],
   "source": [
    "for j in np.arange(30):\n",
    "    print(j)\n",
    "    for i in np.arange(len(S_train)):\n",
    "        s = S_train[i].reshape(1,-1)\n",
    "        q = model.predict_on_batch(s)\n",
    "        q[0,int(A_train[i])] = y_train[i]\n",
    "        model.train_on_batch(s,q)\n"
   ]
  },
  {
   "cell_type": "code",
   "execution_count": null,
   "metadata": {},
   "outputs": [],
   "source": [
    "# yhat = []\n",
    "# for i in np.arange(len(S_test)):\n",
    "#     s = S_test[i].reshape(1,-1)\n",
    "#     q = model.predict_on_batch(s)\n",
    "#     yhat += [q[0,int(A_test[i])]]\n",
    "    \n",
    "\n",
    "ypred = model.predict(S_test)\n",
    "\n",
    "yhat = np.array([ypred[i,int(A_test[i])] for i in np.arange(len(S_test))])\n",
    "\n",
    "# yhat = np.array(yhat)\n",
    "\n",
    "# y_hat = model.predict(Xraw_test)\n",
    "\n",
    "\n",
    "# # Do the prediction and calculate the performance (MSE) for model 1\n",
    "# # Xtest_transformed = scaler.transform(X_test)\n",
    "# # x = np.arange(len(Xtest_transformed))\n",
    "x = np.arange(len(S_test))\n",
    "# y_hat = reg.predict(X_test)\n",
    "plt.plot(x, y_test)\n",
    "plt.plot(x, yhat)\n",
    "plt.show()\n",
    "\n",
    "# y_train_hat = model.predict(Xraw_train)\n",
    "# train_MSE = mean_squared_error(yraw_train, y_train_hat)\n",
    "# print('train set MSE: {}'.format(train_MSE))\n",
    "\n",
    "test_MSE = mean_squared_error(y_test, yhat)\n",
    "print('test set MSE: {}'.format(test_MSE))\n",
    "\n",
    "\n",
    "\n",
    "\n",
    "# regraw = linear_model.LinearRegression()\n",
    "# print('fitting model 2...')\n",
    "# regraw.fit(Xraw_train, yraw_train)"
   ]
  },
  {
   "cell_type": "code",
   "execution_count": null,
   "metadata": {},
   "outputs": [],
   "source": [
    "# S_test.shape\n",
    "# prueba = S_test[0].reshape(1,-1).tolist()\n",
    "# prueba\n",
    "ypred = model.predict(S_test)\n",
    "np.max(np.max(ypred, axis=1))"
   ]
  },
  {
   "cell_type": "code",
   "execution_count": null,
   "metadata": {
    "collapsed": true
   },
   "outputs": [],
   "source": [
    "# model.predict_on_batch(prueba)"
   ]
  },
  {
   "cell_type": "markdown",
   "metadata": {
    "collapsed": true
   },
   "source": [
    "## Playground"
   ]
  },
  {
   "cell_type": "code",
   "execution_count": null,
   "metadata": {},
   "outputs": [],
   "source": [
    "np.array([[1,2], [1], [2,3]])"
   ]
  },
  {
   "cell_type": "code",
   "execution_count": null,
   "metadata": {},
   "outputs": [],
   "source": [
    "np.random.choice(20, 30, replace=False)"
   ]
  },
  {
   "cell_type": "code",
   "execution_count": null,
   "metadata": {},
   "outputs": [],
   "source": [
    "np.min([20, 30])"
   ]
  },
  {
   "cell_type": "code",
   "execution_count": null,
   "metadata": {},
   "outputs": [],
   "source": [
    "100 % 100"
   ]
  },
  {
   "cell_type": "code",
   "execution_count": null,
   "metadata": {},
   "outputs": [],
   "source": [
    "model.get_weights()"
   ]
  },
  {
   "cell_type": "code",
   "execution_count": null,
   "metadata": {},
   "outputs": [],
   "source": [
    "s = np.array([10, 20, 40, 50])\n",
    "s.reshape(1,-1)[0]"
   ]
  },
  {
   "cell_type": "code",
   "execution_count": null,
   "metadata": {},
   "outputs": [],
   "source": [
    "model.get_weights()s.reshape(-1,1)"
   ]
  },
  {
   "cell_type": "code",
   "execution_count": null,
   "metadata": {
    "collapsed": true
   },
   "outputs": [],
   "source": [
    "model.save('test.h5')\n",
    "\n",
    "\n"
   ]
  },
  {
   "cell_type": "code",
   "execution_count": null,
   "metadata": {},
   "outputs": [],
   "source": [
    "print(\"%03d\" % (100,))"
   ]
  },
  {
   "cell_type": "code",
   "execution_count": null,
   "metadata": {
    "collapsed": true
   },
   "outputs": [],
   "source": []
  }
 ],
 "metadata": {
  "kernelspec": {
   "display_name": "Python 3",
   "language": "python",
   "name": "python3"
  },
  "language_info": {
   "codemirror_mode": {
    "name": "ipython",
    "version": 3
   },
   "file_extension": ".py",
   "mimetype": "text/x-python",
   "name": "python",
   "nbconvert_exporter": "python",
   "pygments_lexer": "ipython3",
   "version": "3.6.2"
  }
 },
 "nbformat": 4,
 "nbformat_minor": 2
}
