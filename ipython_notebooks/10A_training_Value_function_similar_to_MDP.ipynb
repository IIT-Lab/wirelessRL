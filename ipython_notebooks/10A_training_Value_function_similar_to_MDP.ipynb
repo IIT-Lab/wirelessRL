{
 "cells": [
  {
   "cell_type": "markdown",
   "metadata": {},
   "source": [
    "### Training the Value Function (similar to Q - Learning)\n",
    "\n"
   ]
  },
  {
   "cell_type": "code",
   "execution_count": 1,
   "metadata": {},
   "outputs": [
    {
     "name": "stderr",
     "output_type": "stream",
     "text": [
      "Using TensorFlow backend.\n"
     ]
    }
   ],
   "source": [
    "# the required imports\n",
    "import numpy as np\n",
    "import pandas as pd\n",
    "# from linear_aproximation import Model\n",
    "# from environment import network\n",
    "import matplotlib.pyplot as plt\n",
    "import re\n",
    "from sklearn.model_selection import train_test_split\n",
    "from sklearn import linear_model\n",
    "from sklearn.metrics import mean_squared_error, r2_score\n",
    "from sklearn.preprocessing import StandardScaler\n",
    "\n",
    "# additional import for the Neural Network\n",
    "from keras.layers import Dense\n",
    "from keras.models import Sequential, load_model\n",
    "from keras import optimizers\n",
    "import tensorflow as tf\n"
   ]
  },
  {
   "cell_type": "code",
   "execution_count": 2,
   "metadata": {},
   "outputs": [
    {
     "data": {
      "text/html": [
       "<div>\n",
       "<style>\n",
       "    .dataframe thead tr:only-child th {\n",
       "        text-align: right;\n",
       "    }\n",
       "\n",
       "    .dataframe thead th {\n",
       "        text-align: left;\n",
       "    }\n",
       "\n",
       "    .dataframe tbody tr th {\n",
       "        vertical-align: top;\n",
       "    }\n",
       "</style>\n",
       "<table border=\"1\" class=\"dataframe\">\n",
       "  <thead>\n",
       "    <tr style=\"text-align: right;\">\n",
       "      <th></th>\n",
       "      <th>action</th>\n",
       "      <th>reward</th>\n",
       "      <th>s_next</th>\n",
       "      <th>state</th>\n",
       "    </tr>\n",
       "  </thead>\n",
       "  <tbody>\n",
       "    <tr>\n",
       "      <th>299475</th>\n",
       "      <td>121.0</td>\n",
       "      <td>-2.915486</td>\n",
       "      <td>[2733, 2733, 2733, 3200, 3200, 3200, 2500, 250...</td>\n",
       "      <td>[2733, 2733, 2733, 3200, 3200, 3200, 2500, 250...</td>\n",
       "    </tr>\n",
       "    <tr>\n",
       "      <th>299476</th>\n",
       "      <td>121.0</td>\n",
       "      <td>-3.054551</td>\n",
       "      <td>[2733, 2733, 2733, 3200, 3200, 3200, 2500, 250...</td>\n",
       "      <td>[2733, 2733, 2733, 3200, 3200, 3200, 2500, 250...</td>\n",
       "    </tr>\n",
       "    <tr>\n",
       "      <th>299477</th>\n",
       "      <td>121.0</td>\n",
       "      <td>-2.653020</td>\n",
       "      <td>[2733, 2733, 2733, 3200, 3200, 3200, 2500, 250...</td>\n",
       "      <td>[2733, 2733, 2733, 3200, 3200, 3200, 2500, 250...</td>\n",
       "    </tr>\n",
       "  </tbody>\n",
       "</table>\n",
       "</div>"
      ],
      "text/plain": [
       "        action    reward                                             s_next  \\\n",
       "299475   121.0 -2.915486  [2733, 2733, 2733, 3200, 3200, 3200, 2500, 250...   \n",
       "299476   121.0 -3.054551  [2733, 2733, 2733, 3200, 3200, 3200, 2500, 250...   \n",
       "299477   121.0 -2.653020  [2733, 2733, 2733, 3200, 3200, 3200, 2500, 250...   \n",
       "\n",
       "                                                    state  \n",
       "299475  [2733, 2733, 2733, 3200, 3200, 3200, 2500, 250...  \n",
       "299476  [2733, 2733, 2733, 3200, 3200, 3200, 2500, 250...  \n",
       "299477  [2733, 2733, 2733, 3200, 3200, 3200, 2500, 250...  "
      ]
     },
     "execution_count": 2,
     "metadata": {},
     "output_type": "execute_result"
    }
   ],
   "source": [
    "# path = '/Users/mawongh/OneDrive/REFERENCE FILE/D/Disertation/brainstorming/'\n",
    "path = '/home/mawongh/ws/datasets/'\n",
    "dataset = pd.read_pickle(path + 'full_dataset.pickle')\n",
    "dataset.tail(3)"
   ]
  },
  {
   "cell_type": "code",
   "execution_count": 4,
   "metadata": {},
   "outputs": [
    {
     "data": {
      "image/png": "[encoded data removed]",
      "text/plain": [
       "<matplotlib.figure.Figure at 0x7f25bce35dd8>"
      ]
     },
     "metadata": {},
     "output_type": "display_data"
    }
   ],
   "source": [
    "dataset.action.hist(bins=126)\n",
    "plt.show()"
   ]
  },
  {
   "cell_type": "code",
   "execution_count": 5,
   "metadata": {
    "collapsed": true
   },
   "outputs": [],
   "source": [
    "# decorrelating samples\n",
    "N = len(dataset)\n",
    "sample_indexes = np.random.choice(np.arange(N), size = N, replace=False)\n",
    "dataset_decorr = dataset.iloc[sample_indexes]\n",
    "\n",
    "S_woScale = dataset_decorr.state.tolist()\n",
    "S_next_woScale = dataset_decorr.s_next.tolist()\n",
    "a = dataset_decorr['action'].values\n",
    "r = dataset_decorr['reward'].values\n",
    "\n",
    "scaler = StandardScaler()\n",
    "S = scaler.fit_transform(S_woScale)\n",
    "S_next = scaler.transform(S_next_woScale)\n"
   ]
  },
  {
   "cell_type": "code",
   "execution_count": null,
   "metadata": {
    "collapsed": true
   },
   "outputs": [],
   "source": []
  },
  {
   "cell_type": "code",
   "execution_count": 10,
   "metadata": {
    "collapsed": true
   },
   "outputs": [],
   "source": [
    "# The model\n",
    "Q = Sequential()\n",
    "n_cols = 105\n",
    "\n",
    "Q.add(Dense(400, activation = 'relu', input_shape=(n_cols,)))\n",
    "Q.add(Dense(400, activation = 'relu'))\n",
    "Q.add(Dense(400, activation = 'relu'))\n",
    "Q.add(Dense(126, activation = 'linear'))\n",
    "Q.compile(optimizer=optimizers.Adam(), loss='mean_squared_error')\n",
    "\n",
    "# the initial version of Qhat will be the original trained model\n",
    "modelfilename = 'MDP_model6.h5'\n",
    "Qhat = load_model(path + modelfilename)"
   ]
  },
  {
   "cell_type": "code",
   "execution_count": 16,
   "metadata": {
    "collapsed": true
   },
   "outputs": [],
   "source": [
    "\n",
    "def train_model(num_epochs, targetmodel, gamma):\n",
    "    for epoch in np.arange(num_epochs):\n",
    "        print('model training, epoch: {}'.format(epoch))\n",
    "        for step in np.arange(len(S)):\n",
    "            s = S[step].reshape(1,-1)\n",
    "            s_next = S_next[step].reshape(1,-1)\n",
    "            target = Q.predict_on_batch(s)\n",
    "            target[0,int(a[step])] = r[step] + gamma * np.max(targetmodel.predict(s_next))\n",
    "            Q.train_on_batch(s,target)"
   ]
  },
  {
   "cell_type": "code",
   "execution_count": null,
   "metadata": {
    "collapsed": true
   },
   "outputs": [],
   "source": []
  },
  {
   "cell_type": "code",
   "execution_count": null,
   "metadata": {},
   "outputs": [
    {
     "name": "stdout",
     "output_type": "stream",
     "text": [
      "model training, epoch: 0\n",
      "model training, epoch: 1\n"
     ]
    }
   ],
   "source": [
    "# train the model for 5 epochs using the MDP as a target\n",
    "train_model(num_epochs = 5, targetmodel = Qhat, gamma = 0.9)\n",
    "print('trained!')\n"
   ]
  },
  {
   "cell_type": "code",
   "execution_count": null,
   "metadata": {},
   "outputs": [
    {
     "name": "stdout",
     "output_type": "stream",
     "text": [
      "iteraction: 0\n",
      "model training, epoch: 0\n",
      "model training, epoch: 1\n",
      "model training, epoch: 2\n",
      "model training, epoch: 3\n"
     ]
    }
   ],
   "source": [
    "# train the model for 15 epochs using the same network as a target\n",
    "for i in np.arange(3):\n",
    "    print('iteraction: {}'.format(i))\n",
    "    Qhat.set_weights(Q.get_weights())\n",
    "    train_model(num_epochs = 5, targetmodel = Qhat, gamma = 0.9)\n",
    "print('trained!')\n",
    "\n"
   ]
  },
  {
   "cell_type": "code",
   "execution_count": 21,
   "metadata": {
    "collapsed": true
   },
   "outputs": [],
   "source": [
    "#save the model\n",
    "Q.save(path + '300K_Q_network_final_v2.h5')\n",
    "Q.save_weights(path + '300K_Q_network_final_weights_v2.h5')"
   ]
  },
  {
   "cell_type": "code",
   "execution_count": 23,
   "metadata": {
    "collapsed": true
   },
   "outputs": [],
   "source": [
    "# save the scaling parameters\n",
    "np.savetxt(path + '170908_DQN_300K_scaler-mean_.csv', scaler.mean_, delimiter=',')\n",
    "np.savetxt(path + '170908_DQN_300K_scaler-scale_.csv', scaler.scale_, delimiter=',')\n"
   ]
  },
  {
   "cell_type": "code",
   "execution_count": null,
   "metadata": {
    "collapsed": true
   },
   "outputs": [],
   "source": []
  },
  {
   "cell_type": "code",
   "execution_count": null,
   "metadata": {
    "collapsed": true
   },
   "outputs": [],
   "source": []
  },
  {
   "cell_type": "code",
   "execution_count": null,
   "metadata": {
    "collapsed": true
   },
   "outputs": [],
   "source": []
  },
  {
   "cell_type": "code",
   "execution_count": null,
   "metadata": {
    "collapsed": true
   },
   "outputs": [],
   "source": []
  },
  {
   "cell_type": "code",
   "execution_count": null,
   "metadata": {
    "collapsed": true
   },
   "outputs": [],
   "source": []
  },
  {
   "cell_type": "code",
   "execution_count": null,
   "metadata": {
    "collapsed": true
   },
   "outputs": [],
   "source": []
  },
  {
   "cell_type": "code",
   "execution_count": null,
   "metadata": {
    "collapsed": true
   },
   "outputs": [],
   "source": []
  },
  {
   "cell_type": "code",
   "execution_count": null,
   "metadata": {
    "collapsed": true
   },
   "outputs": [],
   "source": []
  },
  {
   "cell_type": "code",
   "execution_count": null,
   "metadata": {
    "collapsed": true
   },
   "outputs": [],
   "source": []
  },
  {
   "cell_type": "code",
   "execution_count": null,
   "metadata": {
    "collapsed": true
   },
   "outputs": [],
   "source": []
  },
  {
   "cell_type": "code",
   "execution_count": null,
   "metadata": {
    "collapsed": true
   },
   "outputs": [],
   "source": [
    "\n"
   ]
  },
  {
   "cell_type": "code",
   "execution_count": null,
   "metadata": {
    "collapsed": true
   },
   "outputs": [],
   "source": [
    "\n"
   ]
  },
  {
   "cell_type": "code",
   "execution_count": null,
   "metadata": {
    "collapsed": true
   },
   "outputs": [],
   "source": []
  },
  {
   "cell_type": "code",
   "execution_count": null,
   "metadata": {
    "collapsed": true
   },
   "outputs": [],
   "source": []
  },
  {
   "cell_type": "code",
   "execution_count": null,
   "metadata": {
    "collapsed": true
   },
   "outputs": [],
   "source": []
  },
  {
   "cell_type": "code",
   "execution_count": null,
   "metadata": {
    "collapsed": true
   },
   "outputs": [],
   "source": []
  },
  {
   "cell_type": "code",
   "execution_count": null,
   "metadata": {
    "collapsed": true
   },
   "outputs": [],
   "source": []
  },
  {
   "cell_type": "code",
   "execution_count": null,
   "metadata": {
    "collapsed": true
   },
   "outputs": [],
   "source": []
  },
  {
   "cell_type": "code",
   "execution_count": null,
   "metadata": {
    "collapsed": true
   },
   "outputs": [],
   "source": []
  },
  {
   "cell_type": "code",
   "execution_count": null,
   "metadata": {
    "collapsed": true
   },
   "outputs": [],
   "source": []
  },
  {
   "cell_type": "code",
   "execution_count": null,
   "metadata": {
    "collapsed": true
   },
   "outputs": [],
   "source": []
  },
  {
   "cell_type": "markdown",
   "metadata": {
    "collapsed": true
   },
   "source": [
    "## Playground"
   ]
  },
  {
   "cell_type": "code",
   "execution_count": null,
   "metadata": {
    "collapsed": true
   },
   "outputs": [],
   "source": [
    "np.array([[1,2], [1], [2,3]])"
   ]
  },
  {
   "cell_type": "code",
   "execution_count": null,
   "metadata": {
    "collapsed": true
   },
   "outputs": [],
   "source": [
    "np.random.choice(20, 30, replace=False)"
   ]
  },
  {
   "cell_type": "code",
   "execution_count": null,
   "metadata": {
    "collapsed": true
   },
   "outputs": [],
   "source": [
    "np.min([20, 30])"
   ]
  },
  {
   "cell_type": "code",
   "execution_count": null,
   "metadata": {
    "collapsed": true
   },
   "outputs": [],
   "source": [
    "100 % 100"
   ]
  },
  {
   "cell_type": "code",
   "execution_count": null,
   "metadata": {
    "collapsed": true
   },
   "outputs": [],
   "source": [
    "model.get_weights()"
   ]
  },
  {
   "cell_type": "code",
   "execution_count": null,
   "metadata": {
    "collapsed": true
   },
   "outputs": [],
   "source": [
    "s = np.array([10, 20, 40, 50])\n",
    "s.reshape(1,-1)[0]"
   ]
  },
  {
   "cell_type": "code",
   "execution_count": null,
   "metadata": {
    "collapsed": true
   },
   "outputs": [],
   "source": [
    "model.get_weights()s.reshape(-1,1)"
   ]
  },
  {
   "cell_type": "code",
   "execution_count": null,
   "metadata": {
    "collapsed": true
   },
   "outputs": [],
   "source": [
    "model.save('test.h5')\n",
    "\n",
    "\n"
   ]
  },
  {
   "cell_type": "code",
   "execution_count": null,
   "metadata": {
    "collapsed": true
   },
   "outputs": [],
   "source": [
    "print(\"%03d\" % (100,))"
   ]
  },
  {
   "cell_type": "code",
   "execution_count": null,
   "metadata": {
    "collapsed": true
   },
   "outputs": [],
   "source": []
  }
 ],
 "metadata": {
  "kernelspec": {
   "display_name": "Python 3",
   "language": "python",
   "name": "python3"
  },
  "language_info": {
   "codemirror_mode": {
    "name": "ipython",
    "version": 3
   },
   "file_extension": ".py",
   "mimetype": "text/x-python",
   "name": "python",
   "nbconvert_exporter": "python",
   "pygments_lexer": "ipython3",
   "version": "3.6.2"
  }
 },
 "nbformat": 4,
 "nbformat_minor": 2
}
