{
 "cells": [
  {
   "cell_type": "markdown",
   "metadata": {},
   "source": [
    "### Training the MDP model\n",
    "\n"
   ]
  },
  {
   "cell_type": "code",
   "execution_count": 1,
   "metadata": {},
   "outputs": [
    {
     "name": "stderr",
     "output_type": "stream",
     "text": [
      "Using TensorFlow backend.\n"
     ]
    }
   ],
   "source": [
    "# the required imports\n",
    "import numpy as np\n",
    "import pandas as pd\n",
    "# from linear_aproximation import Model\n",
    "# from environment import network\n",
    "import matplotlib.pyplot as plt\n",
    "import re\n",
    "from sklearn.model_selection import train_test_split\n",
    "from sklearn import linear_model\n",
    "from sklearn.metrics import mean_squared_error, r2_score\n",
    "from sklearn.preprocessing import StandardScaler\n",
    "\n",
    "# additional import for the Neural Network\n",
    "from keras.layers import Dense\n",
    "from keras.models import Sequential, load_model\n",
    "from keras import optimizers\n",
    "import tensorflow as tf\n"
   ]
  },
  {
   "cell_type": "code",
   "execution_count": 2,
   "metadata": {},
   "outputs": [
    {
     "data": {
      "text/html": [
       "<div>\n",
       "<style>\n",
       "    .dataframe thead tr:only-child th {\n",
       "        text-align: right;\n",
       "    }\n",
       "\n",
       "    .dataframe thead th {\n",
       "        text-align: left;\n",
       "    }\n",
       "\n",
       "    .dataframe tbody tr th {\n",
       "        vertical-align: top;\n",
       "    }\n",
       "</style>\n",
       "<table border=\"1\" class=\"dataframe\">\n",
       "  <thead>\n",
       "    <tr style=\"text-align: right;\">\n",
       "      <th></th>\n",
       "      <th>action</th>\n",
       "      <th>reward</th>\n",
       "      <th>s_next</th>\n",
       "      <th>state</th>\n",
       "    </tr>\n",
       "  </thead>\n",
       "  <tbody>\n",
       "    <tr>\n",
       "      <th>299475</th>\n",
       "      <td>121.0</td>\n",
       "      <td>-2.915486</td>\n",
       "      <td>[2733, 2733, 2733, 3200, 3200, 3200, 2500, 250...</td>\n",
       "      <td>[2733, 2733, 2733, 3200, 3200, 3200, 2500, 250...</td>\n",
       "    </tr>\n",
       "    <tr>\n",
       "      <th>299476</th>\n",
       "      <td>121.0</td>\n",
       "      <td>-3.054551</td>\n",
       "      <td>[2733, 2733, 2733, 3200, 3200, 3200, 2500, 250...</td>\n",
       "      <td>[2733, 2733, 2733, 3200, 3200, 3200, 2500, 250...</td>\n",
       "    </tr>\n",
       "    <tr>\n",
       "      <th>299477</th>\n",
       "      <td>121.0</td>\n",
       "      <td>-2.653020</td>\n",
       "      <td>[2733, 2733, 2733, 3200, 3200, 3200, 2500, 250...</td>\n",
       "      <td>[2733, 2733, 2733, 3200, 3200, 3200, 2500, 250...</td>\n",
       "    </tr>\n",
       "  </tbody>\n",
       "</table>\n",
       "</div>"
      ],
      "text/plain": [
       "        action    reward                                             s_next  \\\n",
       "299475   121.0 -2.915486  [2733, 2733, 2733, 3200, 3200, 3200, 2500, 250...   \n",
       "299476   121.0 -3.054551  [2733, 2733, 2733, 3200, 3200, 3200, 2500, 250...   \n",
       "299477   121.0 -2.653020  [2733, 2733, 2733, 3200, 3200, 3200, 2500, 250...   \n",
       "\n",
       "                                                    state  \n",
       "299475  [2733, 2733, 2733, 3200, 3200, 3200, 2500, 250...  \n",
       "299476  [2733, 2733, 2733, 3200, 3200, 3200, 2500, 250...  \n",
       "299477  [2733, 2733, 2733, 3200, 3200, 3200, 2500, 250...  "
      ]
     },
     "execution_count": 2,
     "metadata": {},
     "output_type": "execute_result"
    }
   ],
   "source": [
    "# path = '/Users/mawongh/OneDrive/REFERENCE FILE/D/Disertation/brainstorming/'\n",
    "path = '/home/mawongh/ws/datasets/'\n",
    "dataset = pd.read_pickle(path + 'full_dataset.pickle')\n",
    "dataset.tail(3)"
   ]
  },
  {
   "cell_type": "code",
   "execution_count": 7,
   "metadata": {},
   "outputs": [
    {
     "data": {
      "image/png": "[encoded data removed]",
      "text/plain": [
       "<matplotlib.figure.Figure at 0x7f72f28d3198>"
      ]
     },
     "metadata": {},
     "output_type": "display_data"
    }
   ],
   "source": [
    "dataset.action.hist()\n",
    "plt.show()"
   ]
  },
  {
   "cell_type": "code",
   "execution_count": 25,
   "metadata": {},
   "outputs": [],
   "source": [
    "# decorrelating samples\n",
    "N = len(dataset)\n",
    "sample_indexes = np.random.choice(np.arange(N), size = N, replace=False)\n",
    "dataset_decorr = dataset.iloc[sample_indexes]\n",
    "\n",
    "S_woScale = dataset_decorr.state.tolist()\n",
    "a = dataset_decorr['action'].values\n",
    "r = dataset_decorr['reward'].values\n",
    "\n",
    "\n",
    "\n",
    "\n",
    "scaler = StandardScaler()\n",
    "S = scaler.fit_transform(S_woScale)\n"
   ]
  },
  {
   "cell_type": "code",
   "execution_count": null,
   "metadata": {},
   "outputs": [],
   "source": []
  },
  {
   "cell_type": "code",
   "execution_count": 27,
   "metadata": {
    "collapsed": true
   },
   "outputs": [],
   "source": [
    "# model 6\n",
    "model6 = Sequential()\n",
    "n_cols = 105\n",
    "\n",
    "model6.add(Dense(400, activation = 'relu', input_shape=(n_cols,)))\n",
    "model6.add(Dense(400, activation = 'relu'))\n",
    "model6.add(Dense(400, activation = 'relu'))\n",
    "model6.add(Dense(126, activation = 'linear'))\n",
    "model6.compile(optimizer=optimizers.Adam(), loss='mean_squared_error')"
   ]
  },
  {
   "cell_type": "code",
   "execution_count": 28,
   "metadata": {
    "collapsed": true
   },
   "outputs": [],
   "source": [
    "\n",
    "def train_model6(num_epochs = 20):\n",
    "    for epoch in np.arange(num_epochs):\n",
    "        print('model: 6, epoch: {}'.format(epoch))\n",
    "        for step in np.arange(len(S)):\n",
    "            s = S[step].reshape(1,-1)\n",
    "            r_temp = model6.predict_on_batch(s)\n",
    "            r_temp[0,int(a[step])] = r[step]\n",
    "            model6.train_on_batch(s,r_temp)"
   ]
  },
  {
   "cell_type": "code",
   "execution_count": null,
   "metadata": {},
   "outputs": [
    {
     "name": "stdout",
     "output_type": "stream",
     "text": [
      "model: 6, epoch: 0\n",
      "model: 6, epoch: 3\n"
     ]
    }
   ],
   "source": [
    "# train the model with all the samples (300K)\n",
    "train_model6(num_epochs = 20)\n",
    "print('trained!')\n"
   ]
  },
  {
   "cell_type": "code",
   "execution_count": 69,
   "metadata": {
    "collapsed": true
   },
   "outputs": [],
   "source": [
    "modelfilename = 'MDP_model6.h5'\n",
    "weightsfilename = 'MDP_model6_weigths.h5'\n",
    "model6.save(path + modelfilename)\n",
    "model6.save_weights(path + weightsfilename)\n",
    "\n"
   ]
  },
  {
   "cell_type": "code",
   "execution_count": null,
   "metadata": {},
   "outputs": [],
   "source": []
  },
  {
   "cell_type": "code",
   "execution_count": 79,
   "metadata": {},
   "outputs": [],
   "source": [
    "# let's try the model\n",
    "# let's choose a random sample of \n",
    "N = len(S)\n",
    "sample_indexes = np.random.choice(np.arange(N), size = 50000, replace=False)\n",
    "S_sample = S[sample_indexes]\n",
    "a_sample = a[sample_indexes]\n",
    "r_sample = r[sample_indexes]\n",
    "\n",
    "y_predict = model6.predict(S_sample)\n"
   ]
  },
  {
   "cell_type": "code",
   "execution_count": 80,
   "metadata": {},
   "outputs": [
    {
     "name": "stdout",
     "output_type": "stream",
     "text": [
      "2.72308849634\n"
     ]
    }
   ],
   "source": [
    "r_predict = [y_predict[i, int(a_sample[i])] for i in np.arange(len(y_predict))]\n",
    "MSE = mean_squared_error(r_predict, r_sample)\n",
    "print(MSE)\n"
   ]
  },
  {
   "cell_type": "code",
   "execution_count": 78,
   "metadata": {},
   "outputs": [
    {
     "data": {
      "text/plain": [
       "83"
      ]
     },
     "execution_count": 78,
     "metadata": {},
     "output_type": "execute_result"
    }
   ],
   "source": [
    "np.argmax(model6.predict(S[90980].reshape(1,-1)))\n"
   ]
  },
  {
   "cell_type": "code",
   "execution_count": 81,
   "metadata": {},
   "outputs": [
    {
     "data": {
      "text/plain": [
       "array([-2.81762362, -2.57211828, -2.34799242, -2.65536404, -2.18688083,\n",
       "       -2.51481938, -2.51294589, -2.37226009, -2.35884333, -2.66362572,\n",
       "       -2.28824806, -2.41995811, -2.54705071, -2.45488214, -2.56257057,\n",
       "       -2.45635414, -2.38550591, -2.35735846, -2.48629212, -2.3883462 ,\n",
       "       -2.3752296 , -2.54901242, -2.48672724, -2.51475716, -2.52494359,\n",
       "       -2.58066559, -2.40408897, -2.52898812, -2.32200241, -2.5131073 ,\n",
       "       -2.37559319, -2.79079866, -2.39801502, -2.49891973, -2.4922986 ,\n",
       "       -2.20727634, -2.59196043, -2.44524789, -2.55416346, -2.67573643,\n",
       "       -2.37091327, -2.37007713, -2.52816391, -2.3595891 , -2.29325795,\n",
       "       -2.68522429, -2.20187783, -2.50564408, -2.48163629, -2.55046225,\n",
       "       -2.38811111, -2.43863678, -2.18807173, -2.49532747, -2.37854528,\n",
       "       -2.68397498, -2.38746667, -2.35808372, -2.40302873, -2.66232443,\n",
       "       -2.42579961, -2.48648405, -2.45261359, -2.50032234, -2.52498913,\n",
       "       -2.57123995, -2.26200294, -2.52902174, -2.45287395, -2.64701843,\n",
       "       -2.15597582, -2.33826017, -2.35350466, -2.56521845, -2.33452606,\n",
       "       -2.45954704, -2.52244377, -2.5997715 , -2.65318513, -2.4500742 ,\n",
       "       -2.54769039, -2.4363029 , -2.42478943, -2.22230291, -2.36342359,\n",
       "       -2.43703246, -2.46044493, -2.55732346, -2.15973997, -2.43146372,\n",
       "       -2.45035672, -2.54731703, -2.53031588, -2.48752928, -2.10259604,\n",
       "       -2.21258163, -2.61854196, -2.42526793, -2.47421885, -2.52933598,\n",
       "       -2.29434991, -2.39615583, -2.46656108, -2.70298862, -2.53895998,\n",
       "       -2.56678081, -2.33116865, -2.40356159, -2.5226872 , -2.61696315,\n",
       "       -2.38553715, -2.56547618, -2.48679233, -2.43164277, -2.56743145,\n",
       "       -2.44494605, -2.64080906, -2.57544374, -2.2368989 , -2.33229685,\n",
       "       -2.38137102, -2.47137737, -2.55515742, -2.40732884, -2.62456894,\n",
       "       -2.42275238], dtype=float32)"
      ]
     },
     "execution_count": 81,
     "metadata": {},
     "output_type": "execute_result"
    }
   ],
   "source": [
    "model6.predict_on_batch(S[70].reshape(1,-1))[0] - model6.predict_on_batch(S[5000].reshape(1,-1))[0]"
   ]
  },
  {
   "cell_type": "code",
   "execution_count": null,
   "metadata": {},
   "outputs": [],
   "source": [
    "from sklearn.preprocessing import StandardScaler\n",
    "num_of_experiments = 10\n",
    "# S = np.array([x for x in study_dataset.state])\n",
    "\n",
    "for experiments in np.arange(num_of_experiments):\n",
    "    sample_indexes = [np.random.choice(np.arange(N), size = sz, replace=False)\n",
    "                     for sz in sample_sizes]\n",
    "    # np.random.choice(np.arange(10), size =5, replace=False)\n",
    "    study_dataset = [dataset.iloc[idx] for idx in sample_indexes]\n",
    "    \n",
    "    \n",
    "    S_woScale = [study_dataset[i].state.tolist() for i in np.arange(len(study_dataset))]\n",
    "    a_r = [df[['action', 'reward']].values for df in study_dataset]\n",
    "    \n",
    "    scaler = StandardScaler()\n",
    "    \n",
    "    S = [scaler.fit_transform(S_woScale[i]) for i in np.arange(len(S_woScale))]\n",
    "\n",
    "    \n",
    "    for ds_idx in np.arange(sample_sizes_n):\n",
    "        \n",
    "        #splitting dataset into train/test\n",
    "        S_train, S_test, a_r_train, a_r_test = train_test_split(\n",
    "            S[ds_idx], a_r[ds_idx], test_size=0.15, random_state=42)\n",
    "        \n",
    "        a_train = a_r_train[:,0]\n",
    "        a_test = a_r_test[:,0]\n",
    "        \n",
    "        r_train = a_r_train[:,1]\n",
    "        r_test = a_r_test[:,1]\n",
    "        \n",
    "#         new_S_train = np.array([S_train[i] for i in np.arange(len(S_train))])\n",
    "#         S_train = new_S_train\n",
    "#         new_S_test = np.array([S_test[i] for i in np.arange(len(S_test))])\n",
    "#         S_test = new_S_test\n",
    "\n",
    "        \n",
    "        # creates the model, it has to be every time to prevent pre-trained weights\n",
    "        model6 = Sequential()\n",
    "        n_cols = 105\n",
    "\n",
    "        # model 6\n",
    "        model6.add(Dense(400, activation = 'relu', input_shape=(n_cols,)))\n",
    "        model6.add(Dense(400, activation = 'relu'))\n",
    "        model6.add(Dense(400, activation = 'relu'))\n",
    "        model6.add(Dense(126, activation = 'linear'))\n",
    "        model6.compile(optimizer=optimizers.Adam(), loss='mean_squared_error')\n",
    "        \n",
    "        print('experiment: {}, sample_size: {}'.format(experiments,len(S[ds_idx])))\n",
    "        train_model6(num_epochs = 20)\n",
    "#         print('trained!')\n",
    "        \n",
    "        y_pred = model6.predict(S_train)\n",
    "        r_hat = np.array([y_pred[i,int(a_train[i])] for i in np.arange(len(S_train))])\n",
    "        train_MSE = mean_squared_error(r_train, r_hat)\n",
    "        print('train MSE: {}'.format(train_MSE))\n",
    "        \n",
    "        y_pred = model6.predict(S_test)\n",
    "        r_hat = np.array([y_pred[i,int(a_test[i])] for i in np.arange(len(S_test))])\n",
    "        test_MSE = mean_squared_error(r_test, r_hat)\n",
    "        print('test MSE: {}'.format(test_MSE))\n",
    "        \n",
    "        algorithm = 'NN Model 6'\n",
    "        record = df.append({'algorithm': algorithm,\n",
    "                            'sample_size': len(S[ds_idx]),\n",
    "                            'mse': train_MSE,\n",
    "                            'data': 'Train'},\n",
    "                           ignore_index=True)\n",
    "        record = record.append({'algorithm': algorithm,\n",
    "                                'sample_size': len(S[ds_idx]),\n",
    "                                'mse': test_MSE,\n",
    "                                'data': 'Test'},\n",
    "                               ignore_index=True)\n",
    "        # saves the dataframe for further analysis\n",
    "        record.to_csv(path + outputfile, mode='a', header=False, index=False)\n",
    "        \n",
    "    "
   ]
  },
  {
   "cell_type": "code",
   "execution_count": null,
   "metadata": {},
   "outputs": [],
   "source": [
    "path + outputfile"
   ]
  },
  {
   "cell_type": "code",
   "execution_count": null,
   "metadata": {},
   "outputs": [],
   "source": [
    "results = pd.read_csv(path + outputfile)\n",
    "results.head()"
   ]
  },
  {
   "cell_type": "code",
   "execution_count": null,
   "metadata": {},
   "outputs": [],
   "source": [
    "import seaborn as sns\n",
    "plt.figure(figsize=(3,4), dpi=150)\n",
    "sns.boxplot(x=\"data\", y=\"mse\", data=results)\n",
    "plt.show()"
   ]
  },
  {
   "cell_type": "code",
   "execution_count": null,
   "metadata": {},
   "outputs": [],
   "source": [
    "from keras.models import load_model\n",
    "model6 = load_model(path + modelfilename)"
   ]
  },
  {
   "cell_type": "code",
   "execution_count": null,
   "metadata": {
    "collapsed": true
   },
   "outputs": [],
   "source": []
  },
  {
   "cell_type": "code",
   "execution_count": null,
   "metadata": {
    "collapsed": true
   },
   "outputs": [],
   "source": []
  },
  {
   "cell_type": "code",
   "execution_count": null,
   "metadata": {
    "collapsed": true
   },
   "outputs": [],
   "source": [
    "\n"
   ]
  },
  {
   "cell_type": "code",
   "execution_count": null,
   "metadata": {
    "collapsed": true
   },
   "outputs": [],
   "source": [
    "\n"
   ]
  },
  {
   "cell_type": "code",
   "execution_count": null,
   "metadata": {
    "collapsed": true
   },
   "outputs": [],
   "source": []
  },
  {
   "cell_type": "code",
   "execution_count": null,
   "metadata": {
    "collapsed": true
   },
   "outputs": [],
   "source": []
  },
  {
   "cell_type": "code",
   "execution_count": null,
   "metadata": {
    "collapsed": true
   },
   "outputs": [],
   "source": []
  },
  {
   "cell_type": "code",
   "execution_count": null,
   "metadata": {
    "collapsed": true
   },
   "outputs": [],
   "source": []
  },
  {
   "cell_type": "code",
   "execution_count": null,
   "metadata": {
    "collapsed": true
   },
   "outputs": [],
   "source": []
  },
  {
   "cell_type": "code",
   "execution_count": null,
   "metadata": {
    "collapsed": true
   },
   "outputs": [],
   "source": []
  },
  {
   "cell_type": "code",
   "execution_count": null,
   "metadata": {
    "collapsed": true
   },
   "outputs": [],
   "source": []
  },
  {
   "cell_type": "code",
   "execution_count": null,
   "metadata": {
    "collapsed": true
   },
   "outputs": [],
   "source": []
  },
  {
   "cell_type": "code",
   "execution_count": null,
   "metadata": {
    "collapsed": true
   },
   "outputs": [],
   "source": []
  },
  {
   "cell_type": "markdown",
   "metadata": {
    "collapsed": true
   },
   "source": [
    "## Playground"
   ]
  },
  {
   "cell_type": "code",
   "execution_count": null,
   "metadata": {
    "collapsed": true
   },
   "outputs": [],
   "source": [
    "np.array([[1,2], [1], [2,3]])"
   ]
  },
  {
   "cell_type": "code",
   "execution_count": null,
   "metadata": {
    "collapsed": true
   },
   "outputs": [],
   "source": [
    "np.random.choice(20, 30, replace=False)"
   ]
  },
  {
   "cell_type": "code",
   "execution_count": null,
   "metadata": {
    "collapsed": true
   },
   "outputs": [],
   "source": [
    "np.min([20, 30])"
   ]
  },
  {
   "cell_type": "code",
   "execution_count": null,
   "metadata": {
    "collapsed": true
   },
   "outputs": [],
   "source": [
    "100 % 100"
   ]
  },
  {
   "cell_type": "code",
   "execution_count": null,
   "metadata": {
    "collapsed": true
   },
   "outputs": [],
   "source": [
    "model.get_weights()"
   ]
  },
  {
   "cell_type": "code",
   "execution_count": null,
   "metadata": {
    "collapsed": true
   },
   "outputs": [],
   "source": [
    "s = np.array([10, 20, 40, 50])\n",
    "s.reshape(1,-1)[0]"
   ]
  },
  {
   "cell_type": "code",
   "execution_count": null,
   "metadata": {
    "collapsed": true
   },
   "outputs": [],
   "source": [
    "model.get_weights()s.reshape(-1,1)"
   ]
  },
  {
   "cell_type": "code",
   "execution_count": null,
   "metadata": {
    "collapsed": true
   },
   "outputs": [],
   "source": [
    "model.save('test.h5')\n",
    "\n",
    "\n"
   ]
  },
  {
   "cell_type": "code",
   "execution_count": null,
   "metadata": {
    "collapsed": true
   },
   "outputs": [],
   "source": [
    "print(\"%03d\" % (100,))"
   ]
  },
  {
   "cell_type": "code",
   "execution_count": null,
   "metadata": {
    "collapsed": true
   },
   "outputs": [],
   "source": []
  }
 ],
 "metadata": {
  "kernelspec": {
   "display_name": "Python 3",
   "language": "python",
   "name": "python3"
  },
  "language_info": {
   "codemirror_mode": {
    "name": "ipython",
    "version": 3
   },
   "file_extension": ".py",
   "mimetype": "text/x-python",
   "name": "python",
   "nbconvert_exporter": "python",
   "pygments_lexer": "ipython3",
   "version": "3.6.2"
  }
 },
 "nbformat": 4,
 "nbformat_minor": 2
}
