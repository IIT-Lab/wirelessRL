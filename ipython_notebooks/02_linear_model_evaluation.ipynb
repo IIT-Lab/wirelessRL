{
 "cells": [
  {
   "cell_type": "code",
   "execution_count": 1,
   "metadata": {
    "collapsed": true
   },
   "outputs": [],
   "source": [
    "import seaborn as sns\n",
    "import matplotlib.pyplot as plt\n",
    "import numpy as np\n",
    "import pandas as pd"
   ]
  },
  {
   "cell_type": "code",
   "execution_count": 8,
   "metadata": {},
   "outputs": [
    {
     "data": {
      "text/html": [
       "<div>\n",
       "<style>\n",
       "    .dataframe thead tr:only-child th {\n",
       "        text-align: right;\n",
       "    }\n",
       "\n",
       "    .dataframe thead th {\n",
       "        text-align: left;\n",
       "    }\n",
       "\n",
       "    .dataframe tbody tr th {\n",
       "        vertical-align: top;\n",
       "    }\n",
       "</style>\n",
       "<table border=\"1\" class=\"dataframe\">\n",
       "  <thead>\n",
       "    <tr style=\"text-align: right;\">\n",
       "      <th></th>\n",
       "      <th>algorithm</th>\n",
       "      <th>sample_size</th>\n",
       "      <th>variable</th>\n",
       "      <th>mse</th>\n",
       "      <th>datasample_sz</th>\n",
       "      <th>data</th>\n",
       "    </tr>\n",
       "  </thead>\n",
       "  <tbody>\n",
       "    <tr>\n",
       "      <th>0</th>\n",
       "      <td>baseline 1</td>\n",
       "      <td>Train MSE</td>\n",
       "      <td>75K</td>\n",
       "      <td>9.180</td>\n",
       "      <td>75K</td>\n",
       "      <td>Train</td>\n",
       "    </tr>\n",
       "    <tr>\n",
       "      <th>1</th>\n",
       "      <td>baseline 1</td>\n",
       "      <td>Test MSE</td>\n",
       "      <td>75K</td>\n",
       "      <td>6.670</td>\n",
       "      <td>75K</td>\n",
       "      <td>Test</td>\n",
       "    </tr>\n",
       "    <tr>\n",
       "      <th>2</th>\n",
       "      <td>baseline 2</td>\n",
       "      <td>Train MSE</td>\n",
       "      <td>75K</td>\n",
       "      <td>9.040</td>\n",
       "      <td>75K</td>\n",
       "      <td>Train</td>\n",
       "    </tr>\n",
       "    <tr>\n",
       "      <th>3</th>\n",
       "      <td>baseline 2</td>\n",
       "      <td>Test MSE</td>\n",
       "      <td>75K</td>\n",
       "      <td>6.570</td>\n",
       "      <td>75K</td>\n",
       "      <td>Test</td>\n",
       "    </tr>\n",
       "    <tr>\n",
       "      <th>4</th>\n",
       "      <td>linear model</td>\n",
       "      <td>Train MSE</td>\n",
       "      <td>75K</td>\n",
       "      <td>4.795</td>\n",
       "      <td>75K</td>\n",
       "      <td>Train</td>\n",
       "    </tr>\n",
       "  </tbody>\n",
       "</table>\n",
       "</div>"
      ],
      "text/plain": [
       "      algorithm sample_size variable    mse datasample_sz   data\n",
       "0    baseline 1   Train MSE     75K   9.180           75K  Train\n",
       "1    baseline 1    Test MSE     75K   6.670           75K   Test\n",
       "2    baseline 2   Train MSE     75K   9.040           75K  Train\n",
       "3    baseline 2    Test MSE     75K   6.570           75K   Test\n",
       "4  linear model   Train MSE     75K   4.795           75K  Train"
      ]
     },
     "execution_count": 8,
     "metadata": {},
     "output_type": "execute_result"
    }
   ],
   "source": [
    "path = '/Users/mawongh/OneDrive/REFERENCE FILE/D/Disertation/brainstorming/'\n",
    "df = pd.read_csv(path + 'linear_model_comparison.csv')\n",
    "df2 = pd.melt(df, id_vars=['algorithm', 'sample_size'], value_name='mse')\n",
    "# comp_2['datasample_sz'] = [lambda x:x.split('.')[0] for x in comp_2.variable]\n",
    "df2['datasample_sz'] = [val.split(' ')[1] for val in df2['variable'].values]\n",
    "df2['data'] = [val.split(' ')[0] for val in df2['sample_size'].values]\n",
    "df2.head()"
   ]
  },
  {
   "cell_type": "code",
   "execution_count": 39,
   "metadata": {},
   "outputs": [
    {
     "data": {
      "text/html": [
       "<div>\n",
       "<style>\n",
       "    .dataframe thead tr:only-child th {\n",
       "        text-align: right;\n",
       "    }\n",
       "\n",
       "    .dataframe thead th {\n",
       "        text-align: left;\n",
       "    }\n",
       "\n",
       "    .dataframe tbody tr th {\n",
       "        vertical-align: top;\n",
       "    }\n",
       "</style>\n",
       "<table border=\"1\" class=\"dataframe\">\n",
       "  <thead>\n",
       "    <tr style=\"text-align: right;\">\n",
       "      <th></th>\n",
       "      <th>algorithm</th>\n",
       "      <th>mse</th>\n",
       "      <th>datasample_sz</th>\n",
       "      <th>data</th>\n",
       "    </tr>\n",
       "  </thead>\n",
       "  <tbody>\n",
       "    <tr>\n",
       "      <th>0</th>\n",
       "      <td>baseline 1</td>\n",
       "      <td>9.180</td>\n",
       "      <td>75K</td>\n",
       "      <td>Train</td>\n",
       "    </tr>\n",
       "    <tr>\n",
       "      <th>1</th>\n",
       "      <td>baseline 1</td>\n",
       "      <td>6.670</td>\n",
       "      <td>75K</td>\n",
       "      <td>Test</td>\n",
       "    </tr>\n",
       "    <tr>\n",
       "      <th>2</th>\n",
       "      <td>baseline 2</td>\n",
       "      <td>9.040</td>\n",
       "      <td>75K</td>\n",
       "      <td>Train</td>\n",
       "    </tr>\n",
       "    <tr>\n",
       "      <th>3</th>\n",
       "      <td>baseline 2</td>\n",
       "      <td>6.570</td>\n",
       "      <td>75K</td>\n",
       "      <td>Test</td>\n",
       "    </tr>\n",
       "    <tr>\n",
       "      <th>4</th>\n",
       "      <td>linear model</td>\n",
       "      <td>4.795</td>\n",
       "      <td>75K</td>\n",
       "      <td>Train</td>\n",
       "    </tr>\n",
       "  </tbody>\n",
       "</table>\n",
       "</div>"
      ],
      "text/plain": [
       "      algorithm    mse datasample_sz   data\n",
       "0    baseline 1  9.180           75K  Train\n",
       "1    baseline 1  6.670           75K   Test\n",
       "2    baseline 2  9.040           75K  Train\n",
       "3    baseline 2  6.570           75K   Test\n",
       "4  linear model  4.795           75K  Train"
      ]
     },
     "execution_count": 39,
     "metadata": {},
     "output_type": "execute_result"
    }
   ],
   "source": [
    "df_orig = df2[['algorithm','mse','datasample_sz','data']]\n",
    "df_orig.head()"
   ]
  },
  {
   "cell_type": "code",
   "execution_count": 18,
   "metadata": {},
   "outputs": [
    {
     "data": {
      "text/html": [
       "<div>\n",
       "<style>\n",
       "    .dataframe thead tr:only-child th {\n",
       "        text-align: right;\n",
       "    }\n",
       "\n",
       "    .dataframe thead th {\n",
       "        text-align: left;\n",
       "    }\n",
       "\n",
       "    .dataframe tbody tr th {\n",
       "        vertical-align: top;\n",
       "    }\n",
       "</style>\n",
       "<table border=\"1\" class=\"dataframe\">\n",
       "  <thead>\n",
       "    <tr style=\"text-align: right;\">\n",
       "      <th></th>\n",
       "      <th>algorithm</th>\n",
       "      <th>sample_size</th>\n",
       "      <th>mse</th>\n",
       "      <th>data</th>\n",
       "      <th>datasample_sz</th>\n",
       "    </tr>\n",
       "  </thead>\n",
       "  <tbody>\n",
       "    <tr>\n",
       "      <th>0</th>\n",
       "      <td>baseline 1</td>\n",
       "      <td>75000</td>\n",
       "      <td>9.477242</td>\n",
       "      <td>train</td>\n",
       "      <td>75K</td>\n",
       "    </tr>\n",
       "    <tr>\n",
       "      <th>1</th>\n",
       "      <td>baseline 1</td>\n",
       "      <td>75000</td>\n",
       "      <td>8.401945</td>\n",
       "      <td>test</td>\n",
       "      <td>75K</td>\n",
       "    </tr>\n",
       "    <tr>\n",
       "      <th>2</th>\n",
       "      <td>baseline 2</td>\n",
       "      <td>75000</td>\n",
       "      <td>9.341001</td>\n",
       "      <td>train</td>\n",
       "      <td>75K</td>\n",
       "    </tr>\n",
       "    <tr>\n",
       "      <th>3</th>\n",
       "      <td>baseline 2</td>\n",
       "      <td>75000</td>\n",
       "      <td>8.287177</td>\n",
       "      <td>test</td>\n",
       "      <td>75K</td>\n",
       "    </tr>\n",
       "    <tr>\n",
       "      <th>4</th>\n",
       "      <td>linear model</td>\n",
       "      <td>75000</td>\n",
       "      <td>5.144229</td>\n",
       "      <td>train</td>\n",
       "      <td>75K</td>\n",
       "    </tr>\n",
       "  </tbody>\n",
       "</table>\n",
       "</div>"
      ],
      "text/plain": [
       "      algorithm  sample_size       mse   data datasample_sz\n",
       "0    baseline 1        75000  9.477242  train           75K\n",
       "1    baseline 1        75000  8.401945   test           75K\n",
       "2    baseline 2        75000  9.341001  train           75K\n",
       "3    baseline 2        75000  8.287177   test           75K\n",
       "4  linear model        75000  5.144229  train           75K"
      ]
     },
     "execution_count": 18,
     "metadata": {},
     "output_type": "execute_result"
    }
   ],
   "source": [
    "df = pd.read_csv(path + 'results.csv')\n",
    "numbers = (df.sample_size / 1000).astype(int).astype(str)\n",
    "Ks = np.repeat('K', len(numbers))\n",
    "df['datasample_sz'] = numbers + Ks\n",
    "df.head()\n"
   ]
  },
  {
   "cell_type": "code",
   "execution_count": 44,
   "metadata": {},
   "outputs": [
    {
     "data": {
      "text/plain": [
       "72"
      ]
     },
     "execution_count": 44,
     "metadata": {},
     "output_type": "execute_result"
    }
   ],
   "source": [
    "df['data2'] = [df.data[i].title() for i in np.arange(len(df))]\n",
    "df_other = df[['algorithm', 'mse','datasample_sz','data2']]\n",
    "df_other.columns = ['algorithm', 'mse','datasample_sz','data']\n",
    "len(df_other)"
   ]
  },
  {
   "cell_type": "code",
   "execution_count": 43,
   "metadata": {},
   "outputs": [
    {
     "data": {
      "text/plain": [
       "144"
      ]
     },
     "execution_count": 43,
     "metadata": {},
     "output_type": "execute_result"
    }
   ],
   "source": [
    "df2 = df_orig.append(df_other)\n",
    "len(df2)"
   ]
  },
  {
   "cell_type": "code",
   "execution_count": 53,
   "metadata": {},
   "outputs": [
    {
     "data": {
      "image/png": "[encoded data removed]",
      "text/plain": [
       "<matplotlib.figure.Figure at 0x10fc9a128>"
      ]
     },
     "metadata": {},
     "output_type": "display_data"
    }
   ],
   "source": [
    "plt.figure(figsize=(3,4), dpi=150)\n",
    "sns.boxplot(x=\"algorithm\", y=\"mse\", data=df2)\n",
    "plt.show()"
   ]
  },
  {
   "cell_type": "code",
   "execution_count": 54,
   "metadata": {},
   "outputs": [
    {
     "data": {
      "image/png": "[encoded data removed]",
      "text/plain": [
       "<matplotlib.figure.Figure at 0x10c621b38>"
      ]
     },
     "metadata": {},
     "output_type": "display_data"
    }
   ],
   "source": [
    "plt.figure(figsize=(3,4), dpi=150)\n",
    "sns.boxplot(x=\"data\", y=\"mse\", data=df2)\n",
    "plt.show()"
   ]
  },
  {
   "cell_type": "code",
   "execution_count": 55,
   "metadata": {},
   "outputs": [
    {
     "data": {
      "image/png": "[encoded data removed]",
      "text/plain": [
       "<matplotlib.figure.Figure at 0x110613470>"
      ]
     },
     "metadata": {},
     "output_type": "display_data"
    }
   ],
   "source": [
    "plt.figure(figsize=(3,4), dpi=150)\n",
    "sns.boxplot(x=\"datasample_sz\", y=\"mse\", data=df2)\n",
    "plt.show()"
   ]
  },
  {
   "cell_type": "code",
   "execution_count": null,
   "metadata": {
    "collapsed": true
   },
   "outputs": [],
   "source": []
  },
  {
   "cell_type": "code",
   "execution_count": null,
   "metadata": {
    "collapsed": true
   },
   "outputs": [],
   "source": []
  }
 ],
 "metadata": {
  "kernelspec": {
   "display_name": "Python 3",
   "language": "python",
   "name": "python3"
  },
  "language_info": {
   "codemirror_mode": {
    "name": "ipython",
    "version": 3
   },
   "file_extension": ".py",
   "mimetype": "text/x-python",
   "name": "python",
   "nbconvert_exporter": "python",
   "pygments_lexer": "ipython3",
   "version": "3.6.2"
  }
 },
 "nbformat": 4,
 "nbformat_minor": 2
}
